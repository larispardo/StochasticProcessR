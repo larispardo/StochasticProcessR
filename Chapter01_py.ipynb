{
 "cells": [
  {
   "cell_type": "markdown",
   "metadata": {},
   "source": [
    "# Chapter 1 Exercises\n",
    "In this notebook we will go through the exercises of chapter 1 of Introduction to Stochastic Processes with R by Robert Dobrow."
   ]
  },
  {
   "cell_type": "markdown",
   "metadata": {},
   "source": [
    "### 1.1\n",
    "For the following scenarios identify the stochastic process {$X_t, t \\in I$}, describing (i) $X_t$ in context (ii) state space, and (iii) index Set. State whether the state space and index are discrete or continuous.\n",
    "\n",
    "    b) At the end of each year, a 4-year college student either advances in grade repeats the grade or drops out\n",
    "    Answer:\n",
    "let $X_t$ denote the state of the student at the end of the year $t$. This is a discrete space with $S=$ {Advances, Repeats, Drop out} for $I=${1,2,...}\n",
    "    \n",
    "    c) Seismologists record daily earthquake magnitudes in Chile. the largest recorded earthquake in history was the Valdivia, Chile earthquake on May 22 1960, which had a magnitude of 9.5 on Richter scale.\n",
    "Answer:\n",
    "ley $X_t$ the magnitude of earthquake t. and with continuous Space $S =$ (0,9.5] and $I=$ {0,1,2,...}\n",
    "    \n",
    "    d)Data are kept on circumferences of trees in an arboretum. The arboretum covers a two square-mile area.\n",
    "    Answer:\n",
    "ley $X_t$ the circumference of tree t. and with continuous Space $S =$ (0,max(circum)] and $I=$ {0,1,2,...}\n",
    "    \n",
    "    e) Starting Monday morning at 9 a.m., as students arrive to class, the teacher records the student arrival times. The class has 30 students and lasts for 60 minutes.\n",
    "    Answer:\n",
    "ley $X_t$ arrival time of student t. and with continuous Space $S =$ $[0,60]$ and $I=$ {0,1,2,...,30}\n",
    "    \n",
    "    f) A card player shuffles a standard deck of cards by the following method: the top card of the deck is placed somewhere in the deck at random. The player does this 100 times to mix up the deck.\n",
    "    Answer:\n",
    "ley $X_t$ the order of the cards at shuffle t. and with Discrete Space $S =$ 52! and $I=$ {0,1,2,...,100}\n",
    "    "
   ]
  },
  {
   "cell_type": "markdown",
   "metadata": {},
   "source": [
    "### 1.2\n",
    "A regional Insurance company insures homeowners against flood damage. Half of their policyholders are in florida 30% in Louisiana, and 20% in Texas. Company Actuaries Inc. give the estimate table 1.1 for the probability that a policy holder will file a claim for flood damage over the next year. \n",
    "\n",
    "    a) find the probability that a random policyholder will file a claim for flood damage next year.\n",
    "    b) a claim was filed. Find the probability that the policyholder is from texas \n",
    "|  | Table 1.1 Probability of claim for flood damage | |\n",
    "| --- | :-: | --- |\n",
    "| Florida | Louisiana | Texas |\n",
    "| 0.03 | 0.015 | 0.02 |"
   ]
  },
  {
   "cell_type": "markdown",
   "metadata": {},
   "source": [
    "#### Answer \n",
    "using the law of total probability, then we need to calculate \n",
    "$$P(claim)=\\sum_{state} P(claim|State)*P(State)$$"
   ]
  },
  {
   "cell_type": "code",
   "execution_count": 2,
   "metadata": {},
   "outputs": [
    {
     "data": {
      "text/plain": [
       "0.0235"
      ]
     },
     "execution_count": 2,
     "metadata": {},
     "output_type": "execute_result"
    }
   ],
   "source": [
    "prob_a = 0.5*0.03+0.3*0.015+0.2*0.02\n",
    "prob_a"
   ]
  },
  {
   "cell_type": "markdown",
   "metadata": {},
   "source": [
    "In the second case we want to find the probability that it comes from texas given that a claim happened, then we want:\n",
    "$$P(Texas|claim)=\\frac{P(claim \\cap Texas)}{P(claim)}=\\frac{P(claim|Texas)P(Texas)}{P(claim)}$$"
   ]
  },
  {
   "cell_type": "code",
   "execution_count": 3,
   "metadata": {},
   "outputs": [
    {
     "data": {
      "text/plain": [
       "0.1702127659574468"
      ]
     },
     "execution_count": 3,
     "metadata": {},
     "output_type": "execute_result"
    }
   ],
   "source": [
    "0.2*0.02/prob_a"
   ]
  },
  {
   "cell_type": "markdown",
   "metadata": {},
   "source": [
    "### 1.3\n",
    "let $B_1,...,B_k$ be a partition of the sample space. For events A and C, prove the law of total probability for conditional probability.\n",
    "$$P(A|C)=\\sum_{i=1}^{k}P(A|B_i \\cap C)P(B_i|C)$$"
   ]
  },
  {
   "cell_type": "markdown",
   "metadata": {},
   "source": [
    "#### Answer\n",
    "\n",
    "To answer this let's expand the right part of the equalityt\n",
    "\\begin{align}\n",
    "\\sum_{i=1}^{k}P(A|B_i \\cap C)P(B_i|C) & = \\sum_{i=1}^{k}\\frac{P(A \\cap B_i \\cap C)}{P(B_i \\cap C)} \\frac{P(B_i \\cap C)}{P(C)} \\\\\n",
    " & = \\sum_{i=1}^{k}\\frac{P(A \\cap B_i \\cap C)}{P(C)} \\\\\n",
    " & = \\frac{1}{P(C)}\\sum_{i=1}^{k}P(A \\cap B_i \\cap C) \\\\\n",
    " & = \\frac{P(A \\cap C)}{P(C)} = P(A|C)\n",
    "\\end{align}"
   ]
  },
  {
   "cell_type": "markdown",
   "metadata": {},
   "source": [
    "### 1.4 \n",
    "See exercise 1.2 Among all policyholders who live within five miles of the Atlantic Ocean, 75% live in florida, 20% in Louisiana and 5% live in Taxas. For thosewho live close to the ocean the probabilities of filing a claim increase as given in table 1.2.\n",
    "\n",
    "Assume that the policyholder lives within five miles of the Atlantic Coast. Use the law of total probability fot conditional probability in Exercise 1.3 to find the chance that they will file a claim for flood damage next year.\n",
    "\n",
    "|  | Table 1.2 Probability of claim for those within 5 miles | |\n",
    "| --- | :-: | --- |\n",
    "| Florida | Louisiana | Texas |\n",
    "| 0.1 | 0.06 | 0.06 |"
   ]
  },
  {
   "cell_type": "markdown",
   "metadata": {},
   "source": [
    "#### Answer\n",
    "What we are looking for is:\n",
    "$$P(claim|5m)=\\sum_{state}P(claim | State \\cap 5m)*P(State | 5m)$$\n",
    "\n",
    "Note here that the partition is the state, that is why we are not looking to find the same result as before."
   ]
  },
  {
   "cell_type": "code",
   "execution_count": 6,
   "metadata": {},
   "outputs": [
    {
     "data": {
      "text/plain": [
       "0.09000000000000001"
      ]
     },
     "execution_count": 6,
     "metadata": {},
     "output_type": "execute_result"
    }
   ],
   "source": [
    "prob_claimG5m = 0.1*0.75+0.06*0.2+0.06*0.05\n",
    "prob_claimG5m"
   ]
  },
  {
   "cell_type": "code",
   "execution_count": null,
   "metadata": {},
   "outputs": [],
   "source": []
  }
 ],
 "metadata": {
  "kernelspec": {
   "display_name": "Python 3.6",
   "language": "python",
   "name": "python3"
  },
  "language_info": {
   "codemirror_mode": {
    "name": "ipython",
    "version": 3
   },
   "file_extension": ".py",
   "mimetype": "text/x-python",
   "name": "python",
   "nbconvert_exporter": "python",
   "pygments_lexer": "ipython3",
   "version": "3.6.8"
  }
 },
 "nbformat": 4,
 "nbformat_minor": 2
}

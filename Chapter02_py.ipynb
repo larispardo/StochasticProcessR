{
 "cells": [
  {
   "cell_type": "markdown",
   "metadata": {},
   "source": [
    "# Chapter 2 Exercises\n",
    "In this notebook we will go through the exercises of chapter 2 of Introduction to Stochastic Processes with R by Robert Dobrow."
   ]
  },
  {
   "cell_type": "code",
   "execution_count": 3,
   "metadata": {},
   "outputs": [],
   "source": [
    "import numpy as np"
   ]
  },
  {
   "cell_type": "markdown",
   "metadata": {},
   "source": [
    "## 2.1\n",
    "A Markov chain has transition Matrix\n",
    "$$\n",
    "p=\\left(\\begin{array}{cc} \n",
    "0.1 & 0.3&0.6\\\\\n",
    "0 & 0.4& 0.6 \\\\\n",
    "0.3 & 0.2 &0.5\n",
    "\\end{array}\\right)\n",
    "$$ \n",
    "With initial distribution $\\alpha =(0.2,0.3,0.5)$. Find the following:\n",
    "\n",
    "a) $P(X_7=3|X_6=2)$\n",
    "\n",
    "b) $P(X_9=2|X_1=2,X_5=1,X_7=3)$\n",
    "\n",
    "c) $P(X_0=3|X_1=1)$\n",
    "\n",
    "d) $E[X_2]$\n"
   ]
  },
  {
   "cell_type": "code",
   "execution_count": 9,
   "metadata": {},
   "outputs": [
    {
     "data": {
      "text/plain": [
       "0.6"
      ]
     },
     "execution_count": 9,
     "metadata": {},
     "output_type": "execute_result"
    }
   ],
   "source": [
    "a=np.array([0.2,0.3,0.5])\n",
    "p = np.matrix([[0.1,0.3,0.6],[0,0.4,0.6],[0.3,0.2,0.5]])\n",
    "p[1,2]"
   ]
  },
  {
   "cell_type": "code",
   "execution_count": 7,
   "metadata": {},
   "outputs": [
    {
     "data": {
      "text/plain": [
       "0.27"
      ]
     },
     "execution_count": 7,
     "metadata": {},
     "output_type": "execute_result"
    }
   ],
   "source": [
    "(p*p)[2,1]"
   ]
  },
  {
   "cell_type": "code",
   "execution_count": 10,
   "metadata": {},
   "outputs": [
    {
     "data": {
      "text/plain": [
       "0.8823529411764707"
      ]
     },
     "execution_count": 10,
     "metadata": {},
     "output_type": "execute_result"
    }
   ],
   "source": [
    "a[2]*p[2,0]/(a[0]*p[0,0]+a[1]*p[1,0]+a[2]*p[2,0])"
   ]
  },
  {
   "cell_type": "code",
   "execution_count": 32,
   "metadata": {},
   "outputs": [
    {
     "data": {
      "text/plain": [
       "2.3630000000000004"
      ]
     },
     "execution_count": 32,
     "metadata": {},
     "output_type": "execute_result"
    }
   ],
   "source": [
    "e=0\n",
    "pr = a*p*p\n",
    "for i in range(pr.shape[1]):\n",
    "    e += (i+1)*pr[0,i]\n",
    "e"
   ]
  },
  {
   "cell_type": "markdown",
   "metadata": {},
   "source": [
    "## 2.1\n",
    "A Markov chain has transition Matrix\n",
    "$$\n",
    "p=\\left(\\begin{array}{cc} \n",
    "0 & 1/2&1/2\\\\\n",
    "1 & 0& 0 \\\\\n",
    "1/3 & 1/3 &1/3\n",
    "\\end{array}\\right)\n",
    "$$ \n",
    "With initial distribution $\\alpha =(1/2,0,1/2)$. Find the following:\n",
    "\n",
    "a) $P(X_2=1|X_1=3)$\n",
    "\n",
    "b) $P(X_1=3,X_2=1)$\n",
    "\n",
    "c) $P(X_1=3|X_2=1)$\n",
    "\n",
    "d) $P(X_9=1|X_1=3, X_4=1, X_7=2)$"
   ]
  },
  {
   "cell_type": "code",
   "execution_count": 34,
   "metadata": {},
   "outputs": [
    {
     "data": {
      "text/plain": [
       "0.3333333333333333"
      ]
     },
     "execution_count": 34,
     "metadata": {},
     "output_type": "execute_result"
    }
   ],
   "source": [
    "a=np.array([1/2,0,1/2])\n",
    "p = np.matrix([[0,1/2,1/2],[1,0,0],[1/3,1/3,1/3]])\n",
    "p[2,0]"
   ]
  },
  {
   "cell_type": "code",
   "execution_count": 43,
   "metadata": {},
   "outputs": [
    {
     "data": {
      "text/plain": [
       "0.13888888888888887"
      ]
     },
     "execution_count": 43,
     "metadata": {},
     "output_type": "execute_result"
    }
   ],
   "source": [
    "(a*p)[0,2]*p[2,0]"
   ]
  },
  {
   "cell_type": "code",
   "execution_count": 44,
   "metadata": {},
   "outputs": [
    {
     "data": {
      "text/plain": [
       "0.25"
      ]
     },
     "execution_count": 44,
     "metadata": {},
     "output_type": "execute_result"
    }
   ],
   "source": [
    "(a*p)[0,2]*p[2,0]/((a*p)[0,0]*p[0,0]+(a*p)[0,1]*p[1,0]+(a*p)[0,2]*p[2,0])"
   ]
  },
  {
   "cell_type": "code",
   "execution_count": 47,
   "metadata": {},
   "outputs": [
    {
     "data": {
      "text/plain": [
       "0.0"
      ]
     },
     "execution_count": 47,
     "metadata": {},
     "output_type": "execute_result"
    }
   ],
   "source": [
    "(p*p)[1,0]"
   ]
  },
  {
   "cell_type": "markdown",
   "metadata": {},
   "source": [
    "## 2.3\n",
    "Consider the Wright-Fisher model with population k=3. If the initial population has one A allele, what is the probability that there are no alleles at time 3."
   ]
  },
  {
   "cell_type": "code",
   "execution_count": 57,
   "metadata": {},
   "outputs": [
    {
     "data": {
      "text/plain": [
       "0.5166895290352083"
      ]
     },
     "execution_count": 57,
     "metadata": {},
     "output_type": "execute_result"
    }
   ],
   "source": [
    "def calculate_combinations(n, r):\n",
    "    from math import factorial\n",
    "    return factorial(n) // factorial(r) // factorial(n-r)\n",
    "mat = []\n",
    "k = 3\n",
    "for j in range(k+1):\n",
    "    vec = []\n",
    "    for i in range(k+1):\n",
    "        vec.append(calculate_combinations(k, i)*(j/k)**i*(1-j/k)**(k-i))\n",
    "    mat.append(vec)\n",
    "p=np.matrix(mat)\n",
    "(p**3)[1,0]"
   ]
  },
  {
   "cell_type": "markdown",
   "metadata": {},
   "source": [
    "## 2.4\n",
    "For the Generalñ two-state chain with transformation matrix \n",
    "$$\\boldsymbol{P}=\\left(\\begin{array}{cc} \n",
    "1-p & p\\\\\n",
    "q & 1-q\n",
    "\\end{array}\\right)$$\n",
    "\n",
    "And initial distribution $\\alpha=(\\alpha_1,\\alpha_2)$, find the following:\n",
    "\n",
    "(a) the two step transition matrix\n",
    "\n",
    "(b) the distribution of $X_1$"
   ]
  },
  {
   "cell_type": "markdown",
   "metadata": {},
   "source": [
    "### Answer\n",
    "(a)\n",
    "\n",
    "For this case the result comes from doing the matrix multiplication once i.e. finding $\\boldsymbol{P}*\\boldsymbol{P}$ that is:\n",
    "$$\\boldsymbol{P}*\\boldsymbol{P}=\\left(\\begin{array}{cc} \n",
    "(1-p)^2+pq & (1-p)p+(1-q)p\\\\\n",
    "(1-p)q+(1-q)q & (1-q)^2+pq\n",
    "\\end{array}\\right)$$"
   ]
  },
  {
   "cell_type": "markdown",
   "metadata": {},
   "source": [
    "(b) \n",
    "in this case we need to take into account alpha which would be $X_0$ and then multiply with the transition matrix, then:\n",
    "\n",
    "$\\boldsymbol{\\alpha}*\\boldsymbol{P}$ that is:\n",
    "$$\\boldsymbol{\\alpha}*\\boldsymbol{P}=( \n",
    "(1-p)\\alpha_1+q\\alpha_2 , p\\alpha_1+(1-q)\\alpha_2)$$"
   ]
  },
  {
   "cell_type": "markdown",
   "metadata": {},
   "source": [
    "## 2.5\n",
    "Consider a random walk on $\\{0,...,k\\}$, which moves left and right with respective probabilities q and p. If the walk is at 0 it transitions to 1 on the next step. If the walk is at k it transitions to k-1 on the next step. This is calledrandom walk with reflecting bounderies. Assume that $k=3,q=1/4, p =3/4$ and the initial distribution is uniform. For the following, use technology if needed.\n",
    "\n",
    "(a) Exhibit the transition Matrix\n",
    "\n",
    "(b) Find $P(X_7=1|X_0=3,X_2=2,X_4=2)$\n",
    "\n",
    "(c) Find $P(X_3=1,X_5=3)$"
   ]
  },
  {
   "cell_type": "markdown",
   "metadata": {},
   "source": [
    "### Answer\n",
    "(a) $$\\boldsymbol{Pr}=\\left(\\begin{array}{cc}\n",
    "0 & 1 & 0 & 0 \\\\\n",
    "1/4 & 0 & 3/4 & 0\\\\\n",
    "0 & 1/4 & 0 & 3/4 \\\\\n",
    "0 & 0 & 1 & 0\n",
    "\\end{array}\\right)$$"
   ]
  },
  {
   "cell_type": "markdown",
   "metadata": {},
   "source": [
    "(b) since it is a Markov Chain, then $P(X_7=1|X_0=3,X_2=2,X_4=2)=P(X_7=1|X_4=2)=\\boldsymbol{Pr}^3_{2,1}$\n"
   ]
  },
  {
   "cell_type": "code",
   "execution_count": 6,
   "metadata": {},
   "outputs": [
    {
     "data": {
      "text/plain": [
       "0.296875"
      ]
     },
     "execution_count": 6,
     "metadata": {},
     "output_type": "execute_result"
    }
   ],
   "source": [
    "p = np.matrix([[0,1,0,0],[1/4,0,3/4,0],[0,1/4,0,3/4],[0,0,1,0]])\n",
    "(p**3)[2,1]"
   ]
  },
  {
   "cell_type": "markdown",
   "metadata": {},
   "source": [
    "(c) $P(X_3=1,X_5=3)=(\\alpha \\boldsymbol{Pr}^3)_{1}*\\boldsymbol{Pr}^2_{1,3}$"
   ]
  },
  {
   "cell_type": "code",
   "execution_count": 12,
   "metadata": {},
   "outputs": [
    {
     "data": {
      "text/plain": [
       "0.103271484375"
      ]
     },
     "execution_count": 12,
     "metadata": {},
     "output_type": "execute_result"
    }
   ],
   "source": [
    "a=np.matrix([1/4,1/4,1/4,1/4])\n",
    "(a*p**3)[0,1]*(p**2)[1,3]"
   ]
  },
  {
   "cell_type": "markdown",
   "metadata": {},
   "source": [
    "## 2.6\n",
    "A tetrahedron die has four faces labeled 1,2,3 and 4. In repeated independent rolls of the die $R_0, R_1,...,$ let $X_n=max\\{R_0,...,R_n\\}$ be the maximum value after $n+1$ rolls, for $n\\geq0$\n",
    "\n",
    "(a) Give an intuitive argument for why $X_0, X_1, ... $ is a Markov Chain and exhibit its transition Matrix\n",
    "\n",
    "(b) find P(X_3 \\geq 3)"
   ]
  },
  {
   "cell_type": "markdown",
   "metadata": {},
   "source": [
    "### Answer\n",
    "(a) This is a Markov Chain since the value of the maximum in all the rolls does only depend on the last value given of the throw this is because the max value should not changhe based on past rolls of this given event, then $P(X_n=i|X_{n-1}=j,...)=P(X_n=i|X_{n-1}=j)$\n",
    "and the transition matrix is:\n",
    "$$\\boldsymbol{Pr}=\\left(\\begin{array}{cc}\n",
    "1/4 & 1/4 & 1/4 & 1/4 \\\\\n",
    "0 & 1/2 & 1/4 & 1/4 \\\\\n",
    "0 & 0 & 3/4 & 1/4 \\\\\n",
    "0 & 0 & 0 & 1\n",
    "\\end{array}\\right)$$\n"
   ]
  },
  {
   "cell_type": "markdown",
   "metadata": {},
   "source": [
    "(b) We know that the tetrahedron has unoiform probability to get the initial value, then $\\alpha=(1/4,1/4,1/4,1/4)$\n",
    "then we want $\\alpha*\\boldsymbol{Pr}^3$"
   ]
  },
  {
   "cell_type": "code",
   "execution_count": 17,
   "metadata": {},
   "outputs": [
    {
     "data": {
      "text/plain": [
       "0.9375"
      ]
     },
     "execution_count": 17,
     "metadata": {},
     "output_type": "execute_result"
    }
   ],
   "source": [
    "p = np.matrix([[1/4,1/4,1/4,1/4],[0,1/2,1/4,1/4],[0,0,3/4,1/4],[0,0,0,1]])\n",
    "a=np.matrix([1/4,1/4,1/4,1/4])\n",
    "(a*p**3)[0,2:].sum()"
   ]
  },
  {
   "cell_type": "markdown",
   "metadata": {},
   "source": [
    "## 2.7\n",
    "Let $X_0, X_1,...$ be a Markov chain with transition matrix $P$. Let $Y_n=X_{3n}$, for $n = 0,1,2,...$ Show that $Y_0,Y_1,...$ is a Markov chain and exhibit its transition Matrix."
   ]
  },
  {
   "cell_type": "markdown",
   "metadata": {},
   "source": [
    "### Answer\n",
    "Let's unravel $P(Y_k|Y_{k-1},...,Y_0)$\n",
    "\n",
    "$$P(Y_k|Y_{k-1},...,Y_0)=P(X_{3k}|X_{3k-3},...,X_0)$$\n",
    "\n",
    "But since $X_0, X_1,...$ is a Markov Chain, then $P(X_{3k}|X_{3k-3},...,X_0) = P(X_{3k}|X_{3k-3}) = P(Y_k|Y_{k-1})$\n",
    "This means that $Y_0,Y_1,...$ is also a Markov chain.\n",
    "\n",
    "and then the transition matrix for Y is $P_Y=P_X^3$"
   ]
  },
  {
   "cell_type": "markdown",
   "metadata": {},
   "source": [
    "## 2.8\n",
    "Give the Markov transition matrix for a random walk on the weighted graph in the next figure:\n",
    "<div>\n",
    "<img src=\"Figures/Chapter02/Graph210.png\" width=\"500\"/>\n",
    "</div>"
   ]
  },
  {
   "cell_type": "markdown",
   "metadata": {},
   "source": [
    "### Answer \n",
    "$$\\boldsymbol{Pr}=\\left(\\begin{array}{cc}\n",
    "0 & 1/3 & 0 & 0 & 2/3 \\\\\n",
    "1/10 & 1/5 & 1/5 & 1/10 & 2/5 \\\\\n",
    "1/2 & 1/3 & 0 & 1/6 & 0\\\\\n",
    "0 & 1/2 & 1/2 & 0 & 0\\\\\n",
    "1/3 & 2/3 & 0 & 0 & 0\n",
    "\\end{array}\\right)$$"
   ]
  },
  {
   "cell_type": "markdown",
   "metadata": {},
   "source": [
    "## 2.8\n",
    "Give the Markov transition matrix for a random walk on the weighted graph in the next figure:\n",
    "<div>\n",
    "<img src=\"Figures/Chapter02/Graph211.png\" width=\"500\"/>\n",
    "</div>"
   ]
  },
  {
   "cell_type": "markdown",
   "metadata": {},
   "source": [
    "### Answer \n",
    "$$\\boldsymbol{Pr}=\\left(\\begin{array}{cc}\n",
    "0 & 0 & 3/5 & 0 & 2/5 \\\\\n",
    "1/7 & 2/7 & 0 & 0 & 4/7 \\\\\n",
    "0 & 2/9 & 2/3 & 1/9 & 0\\\\\n",
    "0 & 1 & 0 & 0 & 0\\\\\n",
    "3/4 & 0 & 0 & 1/4 & 0\n",
    "\\end{array}\\right)$$"
   ]
  },
  {
   "cell_type": "markdown",
   "metadata": {},
   "source": [
    "## 2.10\n",
    "Consider a Markov Chain with transition Matrix\n",
    "\n",
    "$$\\boldsymbol{Pr}=\\left(\\begin{array}{cc}\n",
    "0 & 3/5 & 1/5 & 2/5 \\\\\n",
    "3/4 & 0 & 1/4 & 0 \\\\\n",
    "1/4 & 1/4 & 1/4 & 1/4\\\\\n",
    "1/4 & 0 & 1/4 & 1/2\n",
    "\\end{array}\\right)$$\n",
    "(a) Exhibit the directed, weighted transition graph for the chain\n",
    "\n",
    "(b) The transition graph for this chain can be given as a weighted graph without directed edges. Exhibit the graph"
   ]
  },
  {
   "cell_type": "markdown",
   "metadata": {},
   "source": [
    "(a)\n",
    "<div>\n",
    "<img src=\"Figures/Chapter02/Graph212.png\" width=\"500\"/>\n",
    "</div>"
   ]
  },
  {
   "cell_type": "markdown",
   "metadata": {},
   "source": [
    "(b)\n",
    "<div>\n",
    "<img src=\"Figures/Chapter02/Graph213.png\" width=\"500\"/>\n",
    "</div>"
   ]
  },
  {
   "cell_type": "markdown",
   "metadata": {},
   "source": [
    "## 2.11\n",
    "You start with five dice. Roll all the dice and put aside those dice that come up 6. Then roll the remaining dice, putting aside thise dice that come up 6. and so on. Let $X_n$ be the number of dice that are sixes after n rolls. \n",
    "\n",
    "(a)  Describe the transition matrix $\\boldsymbol{Pr}$ for this Markov chain\n",
    "\n",
    "(b) Find the probability of getting all sixes by the third play.\n",
    "\n",
    "(c) what do you expect $\\boldsymbol{Pr}^{100}$ to look like? Use tech to confirm your answer **(Good that we are doing this in jupyter notebook haha)**"
   ]
  },
  {
   "cell_type": "markdown",
   "metadata": {},
   "source": [
    "(a) Note that the space for $X_n$ is $0,1,2,3,4,5$\n",
    "\n",
    "$$\\boldsymbol{Pr}=\\left(\\begin{array}{cc}\n",
    "1 & 0 & 0 & 0 & 0 & 0 \\\\\n",
    "1/6 & 5/6 & 0 & 0 & 0 & 0\\\\\n",
    "\\frac{1^2}{6^2}{2\\choose 2} & \\frac{5*1}{6^2}{2\\choose 1} & \\frac{5^2}{6^2}{2\\choose 0} & 0 & 0 & 0\\\\\n",
    "\\frac{1^3}{6^3}{3\\choose 3} & \\frac{5*1^2}{6^3}{3\\choose 2} & \\frac{5^2*1}{6^3}{3\\choose 1} & \\frac{5^3}{6^3}{3\\choose 0} & 0 & 0\\\\\n",
    "\\frac{1^4}{6^4}{4\\choose 4} & \\frac{5*1^3}{6^4}{4\\choose 3} & \\frac{5^2*1^2}{6^4}{4\\choose 2} & \\frac{5^3*1}{6^4}{4\\choose 1} & \\frac{5^4}{6^4}{4\\choose 0} & 0\\\\\n",
    "\\frac{1^5}{6^5}{5\\choose 5} & \\frac{5*1^4}{6^5}{5\\choose 4} & \\frac{5^2*1^3}{6^5}{5\\choose 3} & \\frac{5^3*1^2}{6^5}{5\\choose 2} & \\frac{5^4*1}{6^5}{5\\choose 1} & \\frac{5^5}{6^5}{5\\choose 0}\\\\\n",
    "\\end{array}\\right) = \\left(\\begin{array}{cc}\n",
    "1 & 0 & 0 & 0 & 0 & 0 \\\\\n",
    "\\frac{1}{6} & \\frac{5}{6} & 0 & 0 & 0 & 0\\\\\n",
    "\\frac{1}{36} & \\frac{10}{36} & \\frac{25}{36} & 0 & 0 & 0\\\\\n",
    "\\frac{1}{216} & \\frac{15}{216} & \\frac{75}{216} & \\frac{125}{216} & 0 & 0\\\\\n",
    "\\frac{1}{1296} & \\frac{20}{1296} & \\frac{150}{1296} & \\frac{500}{1296} & \\frac{625}{1296} & 0\\\\\n",
    "\\frac{1}{7776} & \\frac{25}{7776} & \\frac{250}{7776} & \\frac{1250}{7776} & \\frac{3125}{7776} & \\frac{3125}{7776}\\\\\n",
    "\\end{array}\\right)$$\n",
    "\n",
    "It is interesting that the distribution when $X_n=i$ is the components of the binomial expansion $(1/6+5/6)^i$"
   ]
  },
  {
   "cell_type": "markdown",
   "metadata": {},
   "source": [
    "(b)"
   ]
  },
  {
   "cell_type": "code",
   "execution_count": 8,
   "metadata": {},
   "outputs": [
    {
     "data": {
      "text/plain": [
       "0.013272056011374654"
      ]
     },
     "execution_count": 8,
     "metadata": {},
     "output_type": "execute_result"
    }
   ],
   "source": [
    "p = np.matrix([[1, 0, 0, 0, 0, 0],\n",
    "                      [1/6, 5/6, 0, 0, 0, 0], [1/36, 10/36, 25/36, 0, 0, 0], \n",
    "                      [1/216, 15/216, 75/216, 125/216, 0, 0], \n",
    "                      [1/1296, 20/1296, 150/1296, 500/1296, 625/1296, 0],\n",
    "                      [1/7776, 25/7776, 250/7776, 1250/7776 ,3125/7776, 3125/7776]])\n",
    "(p**3)[5,0]"
   ]
  },
  {
   "cell_type": "markdown",
   "metadata": {},
   "source": [
    "(c) I would expect that there is basically 100 percent posibility that there are 0 dices left without regarding how many dices you started with."
   ]
  },
  {
   "cell_type": "code",
   "execution_count": 10,
   "metadata": {},
   "outputs": [
    {
     "data": {
      "text/plain": [
       "matrix([[1., 0., 0., 0., 0., 0.],\n",
       "        [1., 0., 0., 0., 0., 0.],\n",
       "        [1., 0., 0., 0., 0., 0.],\n",
       "        [1., 0., 0., 0., 0., 0.],\n",
       "        [1., 0., 0., 0., 0., 0.],\n",
       "        [1., 0., 0., 0., 0., 0.]])"
      ]
     },
     "execution_count": 10,
     "metadata": {},
     "output_type": "execute_result"
    }
   ],
   "source": [
    "(p**100).round()"
   ]
  },
  {
   "cell_type": "markdown",
   "metadata": {},
   "source": [
    "## 2.12\n",
    "two urns contain k balls each. At the beginning of the experiment the urn on the left countains k red balls and the one on the right contains k blue balls. At each step, pick a ball at random from each urn and excange them. Let $X_n$ be the number of blue balls left in the urn on the left (Note that $X_0=0, X_1 = 1$). Argue the process is a Markov Chain. Find the transition matrix. This model is called the Bernoulli - Laplace process. "
   ]
  },
  {
   "cell_type": "markdown",
   "metadata": {},
   "source": [
    "### Answer\n",
    "This process has to be a random process because the only thing that matters at step n is to know how many blue balls are in the urn on the left. This means that even if you know all the history only the last state is the one that matters to know the probability for the next step.\n",
    "\n",
    "$$P = \\left(\\begin{array}{cc}\n",
    "0 & 1 & 0 & ... &0 & 0 & 0 \\\\\n",
    "\\frac{1}{k} & 0 & \\frac{k-1}{k} & ... & 0 & 0 & 0\\\\\n",
    "0 & \\frac{2}{k} & 0 & ... & 0 & 0 & 0\\\\\n",
    "... & ... & ... & ... & ... & ... & ...\\\\\n",
    "0 & 0 & 0 & ... & \\frac{k-1}{k} & 0 & \\frac{1}{k}\\\\\n",
    "0 & 0 & 0 & ... & 0 & 1 & 0\\\\\n",
    "\\end{array}\\right)$$"
   ]
  },
  {
   "cell_type": "markdown",
   "metadata": {},
   "source": [
    "## 2.13\n",
    "see the move-to-front process in Example 2.10. Here is anorher way to organize the bookshelf. when a book is returned it is put bacl on the library shelf one position forward from where it was originally. If the book at the fron of the shelf is returned it is put back at the front of the shelf. This, if the order of books is (a,b,c,d,e) and the book d is picjed, the new order is (a,b,d,c,e). This reorganization method us called the *transposition* or *move-ahead-1* scheme. Give the transition matrix for the transportation scheme for a shelf with three books."
   ]
  },
  {
   "cell_type": "markdown",
   "metadata": {},
   "source": [
    "### Answer\n",
    "remember the states are $(abc, acb, bac,bca, cab, cba)$\n",
    "$$P = \\left(\\begin{array}{cc}\n",
    "0 & p_c & p_b &p_a & 0 & 0 \\\\\n",
    "p_b & 0 & 0 & 0 & p_c & p_a\\\\\n",
    "p_a & p_b & 0 & p_c & 0 & 0\\\\\n",
    "0 & 0 & p_a & 0 & p_b & p_c\\\\\n",
    "p_c & p_a & 0 & 0 & 0 & p_b\\\\\n",
    "0 & 0 & p_c & p_b & p_a & 0\n",
    "\\end{array}\\right)$$"
   ]
  },
  {
   "cell_type": "markdown",
   "metadata": {},
   "source": [
    "## 2.14\n",
    "There are k songs in Mary's music player. The player is set to *Shuffle* mode, which plays songs uniformly at random, sampling with replacement. Thus, repeats are possible. Let $X_n$ denote the number of *unique* songs that have been heard after the nth play. \n",
    "\n",
    "(a) show that $X_0,X_1, ...$ is a Markov chain and give the transition matrix\n",
    "\n",
    "(b) if Mary has four songs on her music player, find the probability that all songs are heard after six plays."
   ]
  },
  {
   "cell_type": "markdown",
   "metadata": {},
   "source": [
    "### Answer\n",
    "(a) \n",
    "imagine that you have $P(X_n|X_{n-1},...,X_0)$ note that $X_{n+1}=max\\{\\xi_{n+1},X_n\\}$ where $\\xi_{n+1}$ is the result of the n+1 and it is independent to all $X_i$, $0\\leq i\\leq n$, then this means that $X_0,...,X_n$ is a Markov chain with transition matrix:\n",
    "$$P = \\left(\\begin{array}{cc}\n",
    "1/k & (k-1)/k & 0 & ... &0 & 0 & 0 \\\\\n",
    "0 & 2/k & (k-2)/k & ... & 0 & 0 & 0\\\\\n",
    "0 & 0 & 3/k & ... & 0 & 0 & 0\\\\\n",
    "... & ... & ... & ... & ... & ... & ...\\\\\n",
    "0 & 0 & 0 & ... & 0 & (k-1)/k & 1/k\\\\\n",
    "0 & 0 & 0 & ... & 0 & 0 & 1\\\\\n",
    "\\end{array}\\right)$$"
   ]
  },
  {
   "cell_type": "markdown",
   "metadata": {},
   "source": [
    "## 2.15\n",
    "Assume that $X_0,X_1,...$ is a two state Markov chain in $\\mathcal{S}=\\{0,1\\}$ with transition matrix:\n",
    "\n",
    "$$P=\\left(\\begin{array}{cc}\n",
    "1-p & p  \\\\\n",
    "q & 1-q \n",
    "\\end{array}\\right)$$\n",
    "\n",
    "The present state of the chain only depends on the previous state. We can create a bivariate process that looks back two time periods by the following contruction. Let $Z_n=(X_{n-1},X_n)$, for $n\\geq1$. The sequence $Z_1,Z_2,...$ is a Markov chain with state space $\\mathcal{S}X\\mathcal{S}={(0,0),(1,0),(0,1),(1,1)}$ Give the transition matrix of the new chain. "
   ]
  },
  {
   "cell_type": "markdown",
   "metadata": {},
   "source": [
    "### Answer\n",
    "$$P = \\left(\\begin{array}{cc}\n",
    "1-p & p & 0 & 0 \\\\\n",
    "0 & 0 & q & 1-q \\\\\n",
    "1-p & p & 0 & 0 \\\\\n",
    "0 & 0 & q & 1-q \n",
    "\\end{array}\\right)$$"
   ]
  },
  {
   "cell_type": "markdown",
   "metadata": {},
   "source": [
    "## 2.16\n",
    "Assume that  $P$  is a stochastic matrix with equal rows. Show that $P^n=P$, for all $n\\geq1$"
   ]
  },
  {
   "cell_type": "markdown",
   "metadata": {},
   "source": [
    "### Answer\n",
    "let's then see $P$ as:\n",
    "$$P = \\left(\\begin{array}{cc}\n",
    "p_1 & p_2 & ... & p_k \\\\\n",
    "p_1 & p_2 & ... & p_k \\\\\n",
    "p_1 & p_2 & ... & p_k \\\\\n",
    "... & ... & ... & ... \\\\\n",
    "p_1 & p_2 & ... & p_k \\\\\n",
    "p_1 & p_2 & ... & p_k \\\\\n",
    "\\end{array}\\right)$$\n",
    "\n",
    "First let's calculate $P^2$, then\n",
    "\n",
    "$$P^2 = \\left(\\begin{array}{cc}\n",
    "p_1*p_1+p_2*p_1+...+p_k*p_1 & p_1*p_2+p_2*p_2+...+p_k*p_2 & ... & p_1*p_k+p_2*p_k+...+p_k*p_k \\\\\n",
    "p_1*p_1+p_2*p_1+...+p_k*p_1 & p_1*p_2+p_2*p_2+...+p_k*p_2 & ... & p_1*p_k+p_2*p_k+...+p_k*p_k \\\\\n",
    "p_1*p_1+p_2*p_1+...+p_k*p_1 & p_1*p_2+p_2*p_2+...+p_k*p_2 & ... & p_1*p_k+p_2*p_k+...+p_k*p_k \\\\\n",
    "... & ... & ... & ... \\\\\n",
    "p_1*p_1+p_2*p_1+...+p_k*p_1 & p_1*p_2+p_2*p_2+...+p_k*p_2 & ... & p_1*p_k+p_2*p_k+...+p_k*p_k \\\\\n",
    "p_1*p_1+p_2*p_1+...+p_k*p_1 & p_1*p_2+p_2*p_2+...+p_k*p_2 & ... & p_1*p_k+p_2*p_k+...+p_k*p_k \\\\\n",
    "\\end{array}\\right)=\n",
    "\\left(\\begin{array}{cc}\n",
    "p_1*(p_1+p_2+...+p_k) & ... & p_k(p_1+p_2+...+p_k) \\\\\n",
    "p_1*(p_1+p_2+...+p_k) & ... & p_k(p_1+p_2+...+p_k) \\\\\n",
    "p_1*(p_1+p_2+...+p_k) & ... & p_k(p_1+p_2+...+p_k) \\\\\n",
    "... & ... & ...  \\\\\n",
    "p_1*(p_1+p_2+...+p_k) & ... & p_k(p_1+p_2+...+p_k) \\\\\n",
    "p_1*(p_1+p_2+...+p_k) & ... & p_k(p_1+p_2+...+p_k) \\\\\n",
    "\\end{array}\\right)=\n",
    "\\left(\\begin{array}{cc}\n",
    "p_1*(1) & ... & p_k(1) \\\\\n",
    "p_1*(1) & ... & p_k(1) \\\\\n",
    "p_1*(1) & ... & p_k(1) \\\\\n",
    "... & ... & ...  \\\\\n",
    "p_1*(1) & ... & p_k(1) \\\\\n",
    "p_1*(1) & ... & p_k(1) \\\\\n",
    "\\end{array}\\right) = P$$\n",
    "\n",
    "Then let's see what happens for $P^3$, then \n",
    "$$P^3=P^2*P=P*P=P^2=P$$\n",
    "\n",
    "Assume it is true for $P^n$ and see what happens at $P^{n+1}$\n",
    "$$P^{n+1}=P^n*P=P*P=P^2=P$$\n",
    "Then this means that  $P^n=P$, for all $n\\geq1$"
   ]
  },
  {
   "cell_type": "markdown",
   "metadata": {},
   "source": [
    "## 2.17\n",
    "Let **$P$** be the stochastic matrix. Show that $\\lambda = 1$ is an eigenvalue of **$P$**. What is the associated eigenvector?"
   ]
  },
  {
   "cell_type": "markdown",
   "metadata": {},
   "source": [
    "## Answer \n",
    "Let's first think that it is clear that the rows all sum to one, and remember that an eigenvector asociated to an eigen value looks of the form:\n",
    "$$A\\overline{x}=\\lambda \\overline{x}$$\n",
    "\n",
    "it is easy to note that the eigenvector we are looking at is the vector $\\overline{x}=(1,1,...,1)^T$ this means that the eigenvalue asociated to this is also one\n",
    "\n",
    "we can check this by doing the multiplication. Say we have\n",
    "$$A= \\left(\\begin{array}{cc}\n",
    "p_{1,1} & p_{1,2} & ... & p_{1,k} \\\\\n",
    "p_{2,1} & p_{2,2} & ... & p_{2,k} \\\\\n",
    "... & ... & ... & ... \\\\\n",
    "p_{k,1} & p_{k,2} & ... & p_{k,k} \\\\\n",
    "\\end{array}\\right)$$\n",
    "where A is an stochastic matrix. Then:\n",
    "$$Ax= \\left(\\begin{array}{cc}\n",
    "p_{1,1} & p_{1,2} & ... & p_{1,k} \\\\\n",
    "p_{2,1} & p_{2,2} & ... & p_{2,k} \\\\\n",
    "... & ... & ... & ... \\\\\n",
    "p_{k,1} & p_{k,2} & ... & p_{k,k} \\\\\n",
    "\\end{array}\\right)\\left(\\begin{array}{cc}\n",
    "1 \\\\\n",
    "1 \\\\\n",
    "...  \\\\\n",
    "1\\\\\n",
    "\\end{array}\\right)=\n",
    "\\left(\\begin{array}{cc}\n",
    "p_{1,1} + p_{1,2} + ... + p_{1,k} \\\\\n",
    "p_{2,1} + p_{2,2} + ... + p_{2,k} \\\\\n",
    "...  \\\\\n",
    "p_{k,1} + p_{k,2} + ... + p_{k,k} \\\\\n",
    "\\end{array}\\right)=\n",
    "\\left(\\begin{array}{cc}\n",
    "1 \\\\\n",
    "1 \\\\\n",
    "...  \\\\\n",
    "1\\\\\n",
    "\\end{array}\\right)$$\n",
    "\n",
    "The way to prove this is to remember that if $A$ is an square matrix, then the eigenvalues of A are the same as its transpose's. Then, let's check if 1 is an eigenvalue by doing $det(A^T-\\lambda I)$ where $\\lambda$ is the eigenvalue (in this case 1) and $I$ is the identity matrix, when doing this we get that:\n",
    "$$A-I= \\left(\\begin{array}{cc}\n",
    "p_{1,1} -1 & p_{1,2} & ... & p_{1,k} \\\\\n",
    "p_{2,1} & p_{2,2}- 1 & ... & p_{2,k} \\\\\n",
    "... & ... & ... & ... \\\\\n",
    "p_{k,1} & p_{k,2} & ... & p_{k,k}-1 \\\\\n",
    "\\end{array}\\right)$$\n",
    "\n",
    "And since we are dealing with the transpose, then if we sum all rows to the first row (i.e. $R_1 -> R_1+R_2+...+R_k$), then all values in the first row are zero, which means that the matrix is linearly dependand and $det(A^T- 1I)=0$, which means that 1 is an eigenvalue for $A$"
   ]
  },
  {
   "cell_type": "markdown",
   "metadata": {},
   "source": [
    "## 2.18\n",
    "A stochastic matrix is called *doubly* stochastic if its columns sum to 1. Let $X_0,X_1,...$ be a Markov chain on $\\{ 1,...,k \\}$ with doubly stochastic transition matrix and initial distribution that is uniform on $\\{ 1,...,k \\}$. Show that the distribution of $X_n$ is uniform on $\\{ 1,...,k \\}$, for all $n\\geq0$"
   ]
  },
  {
   "cell_type": "markdown",
   "metadata": {},
   "source": [
    "### Answer\n",
    "Let's remember that then the distribution at $X_n$ is $\\alpha P^n$, let's see what happens at $n=1$\n",
    "\n",
    "$n=1$\n",
    "$$X_1=\\alpha P = \\left(\\begin{array}{cc}\n",
    "1/k &1/k&...& 1/k\n",
    "\\end{array}\\right)\\left(\\begin{array}{cc}\n",
    "p_{1,1} & p_{1,2} & ... & p_{1,k} \\\\\n",
    "p_{2,1} & p_{2,2} & ... & p_{2,k} \\\\\n",
    "...  \\\\\n",
    "p_{k,1} & p_{k,2} & ... & p_{k,k} \\\\\n",
    "\\end{array}\\right)=\\left(\\begin{array}{cc}\n",
    "p_{1,1}*1/k + p_{2,1}*1/k + ... + p_{k,1}*1/k \\\\\n",
    "p_{1,2}*1/k + p_{2,2}*1/k + ... + p_{k,2}*1/k \\\\\n",
    "...  \\\\\n",
    "p_{1,k}*1/k + p_{2,k}*1/k + ... + p_{k,k}*1/k \\\\\n",
    "\\end{array}\\right)^T=\\left(\\begin{array}{cc}\n",
    "(p_{1,1} + p_{2,1} + ... + p_{k,1})*1/k\\\\\n",
    "(p_{1,2} + p_{2,2} + ... + p_{k,2})*1/k \\\\\n",
    "...  \\\\\n",
    "(p_{1,k} + p_{2,k} + ... + p_{k,k})*1/k \\\\\n",
    "\\end{array}\\right)^T = \\left(\\begin{array}{cc}\n",
    "(1)*1/k\\\\\n",
    "(1)*1/k \\\\\n",
    "...  \\\\\n",
    "(1)*1/k \\\\\n",
    "\\end{array}\\right)^T=\\alpha\n",
    "$$\n",
    "This last step is due to the matrix being double stochastic\n",
    "\n",
    "Now let's $n=2$\n",
    "$$X_1=\\alpha P^2 = (\\alpha P)*P=\\alpha*p=\\alpha$$\n",
    "\n",
    "Then we assume it happens for $n$, let's see then for $n+1$\n",
    "$$X_{n+1}=\\alpha P^{n+1} = (\\alpha P^n)*P=\\alpha*p=\\alpha$$"
   ]
  },
  {
   "cell_type": "markdown",
   "metadata": {},
   "source": [
    "## 2.19\n",
    "Let **$P$** be the transition matrix of a Markov chain on $k$ states. Let **$I$** denote the $kXk$ identity matrix. consider the matrix\n",
    "\n",
    "$$\\boldsymbol{Q}=(1-p)\\boldsymbol{I}+p\\boldsymbol{P}\\text{  , for }0<p<1$$\n",
    "show that **$Q$** is a stochastic matrix. Give the probabilistic interpretation for the dynamics of a markov chain governed by the **$Q$** matrix in terms of the original Markov chain."
   ]
  },
  {
   "cell_type": "markdown",
   "metadata": {},
   "source": [
    "### Answer\n",
    "Let's construct $(1-p)\\boldsymbol{I}+p\\boldsymbol{P}$ and we need to check for two main things. First, $0\\leq p_{i,j}\\leq 1$, this is clear, since $P$ already holds this property and you are just multiplying it by two numbers that sum 1 and are less than 1. Now we need to check if $\\sum_j p_{i,j}=1$, then seing the matrix:\n",
    "$$(1-p)\\boldsymbol{I}+p\\boldsymbol{P}=\\left(\\begin{array}{cc}\n",
    "p_{1,1}*p +(1-p) & p_{1,2}*p & ... & p_{1,k}*p \\\\\n",
    "p_{2,1}*p & p_{2,2}*p+(1-p) & ... & p_{2,k}*p \\\\\n",
    "... & ... & ... & ... \\\\\n",
    "p_{k,1}*p & p_{k,2}*p & ... & p_{k,k}*p+(1-p) \\\\\n",
    "\\end{array}\\right)$$\n",
    "we have for row i \n",
    "\n",
    "$p_{i,1}*p + p_{1,2}*p + ...+ p_{i,i}p+(1-p)+...+ p_{1,k}*p = p*(p_{i,1} + p_{1,2} + ...+ p_{1,k})+1-p=p*(1)+1-p=1 $\n",
    "\n",
    "then $Q$ is a stochastic matrix.\n",
    "\n",
    "As I see it this matrix $Q$ the only value it is modifying is the probability of transitioning from state $i$ to state $i$. so this linear combination could be used when you want to give more probability to return to the same state you are at step $n$. you can notice that the probability of going back to state $i$ when you are at state $i$ is due to the fact that is the only other state that has a real value greater than zero being added to it.\n"
   ]
  },
  {
   "cell_type": "markdown",
   "metadata": {},
   "source": [
    "## 2.20\n",
    "Let $X_0,X_1,...$ be a Markov chain with transition matrix \n",
    "\n",
    "$$P=\\left(\\begin{array}{cc}\n",
    "0 & 1 & 0 \\\\\n",
    "0 & 0 & 1 \\\\\n",
    "p & 1-p & 0\n",
    "\\end{array}\\right)$$\n",
    "for $0<p<1$. Let $g$ be the function defined by:\n",
    "\n",
    "$$\n",
    "  g(x) =\n",
    "  \\begin{cases}\n",
    "                                   0 & \\text{if $x=1$} \\\\\n",
    "                                   1 & \\text{if $x=2,3$} \n",
    "  \\end{cases}\n",
    "$$\n",
    "\n",
    "Let $Y_n=g(X_n)$ for $n\\geq0$. Show that $Y_0,Y_1,...$ is not a Markov chain"
   ]
  },
  {
   "cell_type": "markdown",
   "metadata": {},
   "source": [
    "### Answer\n",
    "\n",
    "Let's proof this by contradiction. if we assume $Y_n$ is a Markov chain, then $P(Y_n|Y_{n-1},...,Y_0)=P(Y_n|Y_{n-1})$, but let's check this next two scenarios"
   ]
  },
  {
   "cell_type": "markdown",
   "metadata": {},
   "source": [
    "## 2.21\n",
    "Let $P$ and $Q$ be two transition matricies on the same state space processes, both started in some initial state $i$.\n",
    "\n",
    "In the process $\\#1$ a coin is flipped, then if it lands head, the process unfolds according to $P$. If it lands tails, the process unfolds according to $Q$. \n",
    "\n",
    "In process $\\#2$, at each step a coin is flipped. If it lands heads, the next step is chosen from $P$. If it lands tails, the next step is chosen from $Q$.\n",
    "\n",
    "Thus, in $\\#1$, one coin is initially flipped, which governsthe entire evolution of the process and in $\\#2$ a coin is flipped at each step to decide the next step in the process.\n",
    "\n",
    "Decide whether either of these processes is a Markov chain, if it is exhibit its transition matrix, if not, then explain why not."
   ]
  },
  {
   "cell_type": "markdown",
   "metadata": {},
   "source": [
    "### Answer\n",
    "$#1$\n",
    "\n",
    "For example 1 we have that it is not a Markov chain and the reason for this is because in the first step the this means that the distribution of $X_0$ is different from the distribution of $X_1$ which means that we cannot have a transition matrix for all states, although it is nice to see that once the heads is chosen, then the next steps do follow a Markov chain with either $P$ or $Q$ as their matrices.\n",
    "\n",
    "$#2$\n",
    "\n",
    "For example 2 we have that it is a Markov chain and the reason for this is because we can define the transition Matrix $M=0.5P+0.5Q$ as the new matrix that follows this process. "
   ]
  },
  {
   "cell_type": "code",
   "execution_count": 11,
   "metadata": {},
   "outputs": [],
   "source": [
    "## This could be a class.\n",
    "def ChooseNextStep(x, mat):\n",
    "    tmp_x = x*mat\n",
    "    return tmp_x, np.random.choice(tmp_x.shape[1],p=np.array(tmp_x).reshape(-1))\n",
    "\n",
    "def Simulation_21(case, P=np.matrix([[0.2,0.8],[0.2,0.8]]),Q=np.matrix([[0.8,0.2],[0.8,0.2]]),\n",
    "                  simulations=1000, steps = 5, p=0.5):\n",
    "    '''\n",
    "    This is a function for the simulation stated in 2.21 from the book, it receives the \n",
    "    two matrices and the case you are talking for either one or two and calculates its state matrices for the first\n",
    "    steps we assume initial distributions uniform\n",
    "    '''\n",
    "    rows = P.shape[0]\n",
    "    cols = P.shape[1]\n",
    "    initial_dis = np.matrix([1/cols]*cols)\n",
    "    sim = []\n",
    "    for i in range(simulations):\n",
    "        res = []\n",
    "        tmp_x=initial_dis\n",
    "        for j in range(steps):\n",
    "            if case == 1:\n",
    "                if j == 0:\n",
    "                    coin = np.random.random()\n",
    "                    if coin < p:\n",
    "                        # Follows P\n",
    "                        dist = \"P\"\n",
    "                        tmp_x, xi = ChooseNextStep(tmp_x,P)\n",
    "                    else:\n",
    "                        dist = \"Q\"\n",
    "                        tmp_x, xi = ChooseNextStep(tmp_x,Q)\n",
    "                else:\n",
    "                    if dist==\"P\":\n",
    "                        tmp_x, xi = ChooseNextStep(tmp_x,P)\n",
    "                    else:\n",
    "                        tmp_x, xi = ChooseNextStep(tmp_x,Q)\n",
    "            elif case == 2:\n",
    "                coin = np.random.random()\n",
    "                if coin < p:\n",
    "                    # Follows P\n",
    "                    tmp_x, xi = ChooseNextStep(tmp_x,P)\n",
    "                else:\n",
    "                    tmp_x, xi = ChooseNextStep(tmp_x,Q)\n",
    "            res.append(xi)\n",
    "        sim.append(res)\n",
    "    return np.array(sim)\n",
    "\n",
    "def CalcMatrixForStep(sim, step=1):\n",
    "    res0 = sim[sim[:,(step-1)]==0]\n",
    "    res1 = sim[sim[:,(step-1)]==1]\n",
    "    prob0 = np.unique(res0[:,step], return_counts=True)[1]/res0.shape[0]\n",
    "    prob1 = np.unique(res1[:,step], return_counts=True)[1]/res1.shape[0]\n",
    "    return np.array([prob0,prob1])\n",
    "\n",
    "def GetTransitionMatrix(results):\n",
    "    matrices = []\n",
    "    for i in range(1,results.shape[1]):\n",
    "        matrices.append(CalcMatrixForStep(results,i))\n",
    "    return matrices"
   ]
  },
  {
   "cell_type": "code",
   "execution_count": 12,
   "metadata": {},
   "outputs": [
    {
     "name": "stdout",
     "output_type": "stream",
     "text": [
      "[[0.68071928 0.31928072]\n",
      " [0.32472472 0.67527528]]\n",
      "[[0.6699145  0.3300855 ]\n",
      " [0.31824583 0.68175417]]\n",
      "[[0.67865078 0.32134922]\n",
      " [0.32442068 0.67557932]]\n",
      "[[0.68607443 0.31392557]\n",
      " [0.32906837 0.67093163]]\n"
     ]
    }
   ],
   "source": [
    "sim = Simulation_21(1, simulations=10000)\n",
    "for elem in GetTransitionMatrix(sim):\n",
    "    print(elem)"
   ]
  },
  {
   "cell_type": "code",
   "execution_count": 122,
   "metadata": {},
   "outputs": [
    {
     "name": "stdout",
     "output_type": "stream",
     "text": [
      "[[0.68024935 0.31975065]\n",
      " [0.32288256 0.67711744]]\n",
      "[[0.68171683 0.31828317]\n",
      " [0.32311927 0.67688073]]\n",
      "[[0.68055638 0.31944362]\n",
      " [0.32225466 0.67774534]]\n",
      "[[0.68082058 0.31917942]\n",
      " [0.32163319 0.67836681]]\n"
     ]
    }
   ],
   "source": [
    "sim = Simulation_21(1, simulations=100000)\n",
    "for elem in GetTransitionMatrix(sim):\n",
    "    print(elem)"
   ]
  },
  {
   "cell_type": "code",
   "execution_count": 123,
   "metadata": {},
   "outputs": [
    {
     "name": "stdout",
     "output_type": "stream",
     "text": [
      "[[0.50320229 0.49679771]\n",
      " [0.50051641 0.49948359]]\n",
      "[[0.49590515 0.50409485]\n",
      " [0.50063234 0.49936766]]\n",
      "[[0.50008028 0.49991972]\n",
      " [0.5005182  0.4994818 ]]\n",
      "[[0.49978013 0.50021987]\n",
      " [0.49673804 0.50326196]]\n"
     ]
    }
   ],
   "source": [
    "sim = Simulation_21(2, simulations=100000)\n",
    "for elem in GetTransitionMatrix(sim):\n",
    "    print(elem)"
   ]
  },
  {
   "cell_type": "code",
   "execution_count": 124,
   "metadata": {},
   "outputs": [
    {
     "name": "stdout",
     "output_type": "stream",
     "text": [
      "[[0.49948298 0.50051702]\n",
      " [0.50138799 0.49861201]]\n",
      "[[0.5002298  0.4997702 ]\n",
      " [0.49796825 0.50203175]]\n",
      "[[0.50042076 0.49957924]\n",
      " [0.50405271 0.49594729]]\n",
      "[[0.50585378 0.49414622]\n",
      " [0.50204918 0.49795082]]\n"
     ]
    }
   ],
   "source": [
    "sim = Simulation_21(2, simulations=100000)\n",
    "for elem in GetTransitionMatrix(sim):\n",
    "    print(elem)"
   ]
  },
  {
   "cell_type": "markdown",
   "metadata": {},
   "source": [
    "## 2.22 \n",
    "Show by induction:\n",
    "\n",
    "(a) $1+3+5+...+(2n-1)=n^2$\n",
    "\n",
    "(b) $1^2+2^2+...+n^2=n(n+1)(2n+1)/6$\n",
    "\n",
    "(c) for all real $x>-1$, $(1+x)^n\\geq 1+nx$"
   ]
  },
  {
   "cell_type": "markdown",
   "metadata": {},
   "source": [
    "### Answer\n",
    "$#a$\n",
    "\n",
    "For $n=1$\n",
    "\n",
    "$$\n",
    "\\begin{align}\n",
    "2(1)-1 &= 1 \\\\&=1^2 \n",
    "\\end{align}$$\n",
    "\n",
    "Assume it works for $n-1$\n",
    "\n",
    "$$\n",
    "\\begin{align}\n",
    "1+3+...+(2n-3)  &= (n-1)^2 \\\\\n",
    "                &=n^2 -2n+1\n",
    "\\end{align}$$\n",
    "\n",
    "Then for $n$\n",
    "$$\n",
    "\\begin{align}\n",
    "1+3+...+(2n-3)+(2n-1)  &= n^2 -2n+1 +2n-1\\\\\n",
    "                &=n^2 \n",
    "\\end{align}$$\n",
    "\n",
    "Therefore is proved.\n",
    "\n",
    "$#b$\n",
    "\n",
    "For $n=1$\n",
    "\n",
    "$$\n",
    "\\begin{align}\n",
    "1(1+1)(2*1+1)/6 &= 6/6 \\\\&=1^2 \n",
    "\\end{align}$$\n",
    "\n",
    "Assume it works for $n-1$\n",
    "\n",
    "$$\n",
    "\\begin{align}\n",
    "1^2+2^2+...+(n-1)n^2&=(n-1)(n)(2n-1)/6\n",
    "\\end{align}$$\n",
    "\n",
    "Then for $n$\n",
    "$$\n",
    "\\begin{align}\n",
    "1^2+2^2+...+n^2 &=\\frac{(n-1)(n)(2n-1)}{6}+n^2\\\\\n",
    "                &=\\frac{2n^-3n^2+n+6n^2}{6}\\\\\n",
    "                &=\\frac{n(2n^2+3n+1)}{6}\\\\\n",
    "                &=\\frac{n(n+1)(2n+1)}{6}\n",
    "\\end{align}$$\n",
    "\n",
    "Therefore is proved.\n",
    "\n",
    "$#c$\n",
    "\n",
    "\n",
    "For this is important to notice that for $x>-1$ means that $(1+x)>0$ for all $x$. Now let's see what happens for $n=1$\n",
    "\n",
    "$$\n",
    "\\begin{align}\n",
    "(1+x)^1 &= (1+1*x)\\\\\n",
    "1+x &\\geq 1+x\n",
    "\\end{align}$$\n",
    "\n",
    "Assume it works for $n-1$\n",
    "\n",
    "$$\n",
    "\\begin{align}\n",
    "(1+x)^{n-1}&\\geq1+(n-1)x\n",
    "\\end{align}$$\n",
    "\n",
    "Then for $n$\n",
    "$$\n",
    "\\begin{align}\n",
    "(1+x)^{n} &= (1+x)^{n-1}*(1+x)\\\\\n",
    "          &\\geq 1+(n-1)x*(1+x)\\\\\n",
    "\\\\ \\text{this last step because $1+x > 0$} \\\\ \\\\\n",
    "1+(n-1)x*(1+x)    &=1+(n-1)x+x+(n-1)x^2\\\\\n",
    "                  &=1+n*x+ (n-1)x^2\\\\\n",
    "\\\\ \\text{but since $(n-1)x^2\\geq 0$ for all $x>1$}\\\\ \\\\\n",
    "1+n*x+ (n-1)x^2 &\\geq 1+n*x \\\\\n",
    "\\\\ \\text{=>} \\\\ \\\\\n",
    "(1+x)^{n} &\\geq 1+n*x+ (n-1)x^2 \\\\\n",
    "          &\\geq 1+n*x \\\\\n",
    "\\\\ \\text{by transitivity relation} \\\\ \\\\\n",
    "(1+x)^{n} &\\geq 1+n*x \\\\\n",
    "\\end{align}$$\n",
    "\n",
    "Therefore is proved.\n"
   ]
  },
  {
   "cell_type": "markdown",
   "metadata": {},
   "source": [
    "## 2.23\n",
    "Simulate the first 20 letters (vowel/consonant) of the Pushkin poem Markov chain of Example 2.2.\n",
    "\n",
    "$$P=\\left(\\begin{array}{cc}\n",
    "0.175 & 0.825 \\\\\n",
    "0.526 & 0.474\n",
    "\\end{array}\\right)$$"
   ]
  },
  {
   "cell_type": "markdown",
   "metadata": {},
   "source": [
    "### Answer"
   ]
  },
  {
   "cell_type": "code",
   "execution_count": 163,
   "metadata": {},
   "outputs": [],
   "source": [
    "class PushkinLetters():\n",
    "    def __init__(self, P=np.matrix([[0.175,0.825],[0.526,0.474]]), init= np.array([8.638/20, 11.362/20])):\n",
    "        self.P=P\n",
    "        self.init = init\n",
    "    def sample(self, simlist, dist):\n",
    "        vowel = 0\n",
    "        consonant = 1\n",
    "        if (np.random.random()<dist[0]):\n",
    "            simlist.append(vowel)\n",
    "        else:\n",
    "            simlist.append(consonant)\n",
    "    def parseSimulation(self, toParse):\n",
    "        return [\"vowel\" if x == 0 else \"consonant\" for x in toParse]\n",
    "    def OneSimulation(self, steps = 20):\n",
    "        sim = []\n",
    "        self.sample(sim, self.init)\n",
    "        for i in range(1,steps):\n",
    "            self.sample(sim, np.array(self.P[sim[i-1]]).reshape(-1))\n",
    "        return self.parseSimulation(sim)\n",
    "    def Simulation(self, simulations):\n",
    "        vowel = 0\n",
    "        consonant = 1\n",
    "        results = []\n",
    "        for i in range(0,simulations):\n",
    "            results.append(self.OneSimulation())\n",
    "        return results"
   ]
  },
  {
   "cell_type": "code",
   "execution_count": 166,
   "metadata": {},
   "outputs": [
    {
     "data": {
      "text/plain": [
       "['vowel',\n",
       " 'consonant',\n",
       " 'vowel',\n",
       " 'consonant',\n",
       " 'consonant',\n",
       " 'consonant',\n",
       " 'vowel',\n",
       " 'consonant',\n",
       " 'vowel',\n",
       " 'consonant',\n",
       " 'vowel',\n",
       " 'consonant',\n",
       " 'vowel',\n",
       " 'vowel',\n",
       " 'consonant',\n",
       " 'consonant',\n",
       " 'vowel',\n",
       " 'consonant',\n",
       " 'consonant',\n",
       " 'consonant']"
      ]
     },
     "execution_count": 166,
     "metadata": {},
     "output_type": "execute_result"
    }
   ],
   "source": [
    "PushkinLetters().OneSimulation()"
   ]
  },
  {
   "cell_type": "markdown",
   "metadata": {},
   "source": [
    "## 2.24\n",
    "Simulate 50 steps of the random walk on the graph in Figure2.1. Repeat the simulation 10 times. How many of your simulations end at vertex c? Compare with the exact long-term probability the walk visits c.\n",
    "<div>\n",
    "<img src=\"Figures/Chapter02/Graph1.png\" width=\"500\"/>\n",
    "</div>\n",
    "\n",
    "With transition matrix uniform across vertex as described in the frog example, then:\n",
    "$$P=\\left(\\begin{array}{cc}\n",
    "0 & 1 & 0 & 0 & 0 & 0\\\\\n",
    "1/4 & 0 & 1/4 & 1/4 & 1/4 & 0\\\\\n",
    "0 & 1/4 & 0 & 1/4 & 1/4 & 1/4\\\\\n",
    "0 & 1/4 & 1/4 & 0 & 1/4 & 1/4\\\\\n",
    "0 & 1/3 & 1/3 & 1/3 & 0 & 0\\\\\n",
    "0 & 0 & 1/2 & 1/2 & 0 & 0\n",
    "\\end{array}\\right)$$"
   ]
  },
  {
   "cell_type": "markdown",
   "metadata": {},
   "source": [
    "### Answer"
   ]
  },
  {
   "cell_type": "code",
   "execution_count": 173,
   "metadata": {},
   "outputs": [],
   "source": [
    "class FrogJump():\n",
    "    def __init__(self, P=np.matrix([[0 , 1 , 0 , 0 , 0 , 0],\n",
    "                        [1/4 , 0 , 1/4 , 1/4 , 1/4 , 0],\n",
    "                        [0 , 1/4 , 0 , 1/4 , 1/4 , 1/4],\n",
    "                        [0 , 1/4 , 1/4 , 0 , 1/4 , 1/4],\n",
    "                        [0 , 1/3 , 1/3 , 1/3 , 0 , 0],\n",
    "                        [0 , 0 , 1/2 , 1/2 , 0 , 0]]), \n",
    "                 init= np.array([1/6]*6)):\n",
    "        self.P=P\n",
    "        self.init = init\n",
    "    def sample(self, simlist, dist):\n",
    "        simlist.append(np.random.choice(len(dist),p=dist))\n",
    "    def OneSimulation(self, steps = 50):\n",
    "        sim = []\n",
    "        self.sample(sim, self.init)\n",
    "        for i in range(1,steps):\n",
    "            self.sample(sim, np.array(self.P[sim[i-1]]).reshape(-1))\n",
    "        return sim\n",
    "    def Simulation(self, simulations):\n",
    "        vowel = 0\n",
    "        consonant = 1\n",
    "        results = []\n",
    "        for i in range(0,simulations):\n",
    "            results.append(self.OneSimulation())\n",
    "        return results"
   ]
  },
  {
   "cell_type": "code",
   "execution_count": 183,
   "metadata": {},
   "outputs": [
    {
     "data": {
      "text/plain": [
       "array([3, 2, 4, 2, 3, 4, 1, 2, 3, 3])"
      ]
     },
     "execution_count": 183,
     "metadata": {},
     "output_type": "execute_result"
    }
   ],
   "source": [
    "np.array(FrogJump().Simulation(10))[:,-1]"
   ]
  },
  {
   "cell_type": "code",
   "execution_count": 193,
   "metadata": {},
   "outputs": [
    {
     "data": {
      "text/plain": [
       "matrix([[0.05555595, 0.22222121, 0.22222273, 0.22222273, 0.16666667,\n",
       "         0.11111072]])"
      ]
     },
     "execution_count": 193,
     "metadata": {},
     "output_type": "execute_result"
    }
   ],
   "source": [
    "P=np.matrix([[0 , 1 , 0 , 0 , 0 , 0],\n",
    "            [1/4 , 0 , 1/4 , 1/4 , 1/4 , 0],\n",
    "            [0 , 1/4 , 0 , 1/4 , 1/4 , 1/4],\n",
    "            [0 , 1/4 , 1/4 , 0 , 1/4 , 1/4],\n",
    "            [0 , 1/3 , 1/3 , 1/3 , 0 , 0],\n",
    "            [0 , 0 , 1/2 , 1/2 , 0 , 0]])\n",
    "(P**30)[0,:]"
   ]
  },
  {
   "cell_type": "markdown",
   "metadata": {},
   "source": [
    "## 2.25 \n",
    "The behavior of dolphins in the presence of tour boats in Patagonia, Argentina is studied in Dans et al. (2012). A Markov chain model is developed, with state space consisting of five primary dolphin activities (socializing, traveling, milling, feeding, and resting). The following transition matrix is\n",
    "obtained.\n",
    "\n",
    "$$P=\\left(\\begin{array}{cc}\n",
    "0.84 & 0.11 & 0.01 & 0.04 & 0 \\\\\n",
    "0.03 & 0.8 & 0.04 & 0.1 & 0.03 \\\\\n",
    "0.01 & 0.15 & 0.7 & 0.07 & 0.07 \\\\\n",
    "0.03 & 0.19 & 0.02 & 0.75 & 0.01 \\\\\n",
    "0.03 & 0.09 & 0.05 & 0 & 0.83 \n",
    "\\end{array}\\right)$$"
   ]
  },
  {
   "cell_type": "markdown",
   "metadata": {},
   "source": [
    "### Answer"
   ]
  },
  {
   "cell_type": "code",
   "execution_count": 194,
   "metadata": {},
   "outputs": [
    {
     "data": {
      "text/plain": [
       "matrix([[0.14783582, 0.41492537, 0.0955597 , 0.2163806 , 0.1252985 ]])"
      ]
     },
     "execution_count": 194,
     "metadata": {},
     "output_type": "execute_result"
    }
   ],
   "source": [
    "(np.matrix([\n",
    "[0.84 , 0.11 , 0.01 , 0.04 , 0],\n",
    "[0.03 , 0.8 , 0.04 , 0.1 , 0.03],\n",
    "[0.01 , 0.15 , 0.7 , 0.07 , 0.07],\n",
    "[0.03 , 0.19 , 0.02 , 0.75 , 0.01],\n",
    "[0.03 , 0.09 , 0.05 , 0 , 0.83]\n",
    "])**100)[0]"
   ]
  },
  {
   "cell_type": "markdown",
   "metadata": {},
   "source": [
    "## 2.26 \n",
    "In computer security applications, a honeypot is a trap set on a network to detect and counteract computer hackers. Honeypot data are studied in Kimou et al. (2010) using Markov chains. The authors obtain honeypot data from a central database and observe attacks against four computer ports—80, 135, 139, and 445—over 1 year. The ports are the states of a Markov chain along with a state corresponding to no port is attacked. Weekly data are monitored, and the port most often attacked during the week is recorded. The estimated Markov transition matrix for weekly attacks is\n",
    "$$P=\\left(\\begin{array}{cc}\n",
    "0 & 0 & 0 & 0 & 1 \\\\\n",
    "0 & 8/13 & 3/13 & 1/13 & 1/13 \\\\\n",
    "1/16 & 3/16 & 3/8 & 1/4 & 1/8 \\\\\n",
    "0 & 1/11 & 4/11 & 5/11 & 1/11 \\\\\n",
    "0 & 1/8 & 1/2 & 1/8 & 1/4 \n",
    "\\end{array}\\right)$$\n",
    "with initial distribution $\\alpha = (0, 0, 0, 0, 1)$.\n",
    "\n",
    "(a) Which are the least and most likely attacked ports after 2 weeks? \n",
    "\n",
    "(b) Find the long-term distribution of attacked ports."
   ]
  },
  {
   "cell_type": "markdown",
   "metadata": {},
   "source": [
    "### Answer"
   ]
  },
  {
   "cell_type": "code",
   "execution_count": 204,
   "metadata": {},
   "outputs": [],
   "source": [
    "P=np.matrix([\n",
    "[0 , 0 , 0, 0 , 1],\n",
    "[0 , 8/13 , 3/13 , 1/13, 1/13 ],\n",
    "[1/16 , 3/16 , 3/8 , 1/4, 1/8 ],\n",
    "[0 , 1/11 , 4/11 , 5/11 , 1/11],\n",
    "[0 , 1/8 , 1/2 , 1/8 , 1/4 ]])\n",
    "a=np.array([0,0,0,0,1])\n",
    "parser=[80,135, 139, 445, 'No attack']"
   ]
  },
  {
   "cell_type": "code",
   "execution_count": 212,
   "metadata": {},
   "outputs": [
    {
     "name": "stdout",
     "output_type": "stream",
     "text": [
      "the most likely port to be attacked after two weeks is: 139 \n",
      "the least likely port to be attacked after two weeks is: 80\n"
     ]
    }
   ],
   "source": [
    "print(\"the most likely port to be attacked after two weeks is:\",parser[(a*P**2).argmax()],\"\\n\"+\n",
    "      \"the least likely port to be attacked after two weeks is:\",parser[(a*P**2).argmin()])"
   ]
  },
  {
   "cell_type": "code",
   "execution_count": 219,
   "metadata": {},
   "outputs": [
    {
     "name": "stdout",
     "output_type": "stream",
     "text": [
      "the long last distribution is: [[0.02146667 0.26693333 0.34346667 0.22733333 0.1408    ]]\n"
     ]
    }
   ],
   "source": [
    "print(\"the long last distribution is:\",(P**100)[0])"
   ]
  },
  {
   "cell_type": "markdown",
   "metadata": {},
   "source": [
    "## 2.27 \n",
    "See gamblersruin.R. Simulate gambler’s ruin for a gambler with initial stake $\\$2$, playing a fair game.\n",
    "\n",
    "(a) Estimate the probability that the gambler is ruined before he wins $\\$5$.\n",
    "\n",
    "(b) Construct the transition matrix for the associated Markov chain. Estimate\n",
    "the desired probability in (a) by taking high matrix powers. \n",
    "\n",
    "(c) Compare your results with the exact probability."
   ]
  },
  {
   "cell_type": "markdown",
   "metadata": {},
   "source": [
    "### Answer"
   ]
  },
  {
   "cell_type": "code",
   "execution_count": 220,
   "metadata": {},
   "outputs": [],
   "source": [
    "class GamblingWalk():\n",
    "    '''\n",
    "    This class is used to simulate a random walk, it is flexible to take different \n",
    "    outcomes for the results of throwing the coin and you can have different limits to when stop the experiment\n",
    "    The plotting functions are handy to see the final results.\n",
    "    '''\n",
    "    def __init__(self, initial_money=50, prob=1/2, min_state=0, max_state=100, outcomes = [-1,1]):\n",
    "        self.prob = prob\n",
    "        self.init_money = initial_money\n",
    "        self.walk = []\n",
    "        self.min_state = min_state\n",
    "        self.max_state = max_state\n",
    "        self.outcomes = outcomes\n",
    "    def P_w(self, sim=100):\n",
    "        results = []\n",
    "        for i in range(sim):\n",
    "            res = self.randomWalk()\n",
    "            results.append(res[1])\n",
    "        return sum(results)/len(results)\n",
    "    def randomWalk(self):\n",
    "        money = self.init_money\n",
    "        self.walk = [int(money)]\n",
    "        win = False\n",
    "        while True:\n",
    "            money += np.random.choice(self.outcomes,1,p=[1-self.prob,self.prob])\n",
    "            self.walk.append(int(money))\n",
    "            if (money <= self.min_state) or (money >= self.max_state):\n",
    "                win=(money >= self.max_state)\n",
    "                break\n",
    "        return len(self.walk), win\n",
    "    def plotWalk(self):\n",
    "        if(len(self.walk)==0):\n",
    "            self.randomWalk()\n",
    "        plt.plot(range(len### Answer(self.walk)), self.walk)\n",
    "        plt.xlabel(\"Time\")\n",
    "        plt.ylabel(\"Money\")\n",
    "        plt.show()"
   ]
  },
  {
   "cell_type": "code",
   "execution_count": 235,
   "metadata": {},
   "outputs": [
    {
     "data": {
      "text/plain": [
       "array([0.5985])"
      ]
     },
     "execution_count": 235,
     "metadata": {},
     "output_type": "execute_result"
    }
   ],
   "source": [
    "wlk = GamblingWalk(initial_money=2, max_state=5)\n",
    "1-wlk.P_w(10000)"
   ]
  },
  {
   "cell_type": "markdown",
   "metadata": {},
   "source": [
    "(b) The transition Matrix is given by:\n",
    "\n",
    "$$P=\\left(\\begin{array}{cc}\n",
    "1 & 0 & 0 & 0 & 0 & 0 \\\\\n",
    "1/2 & 0 & 1/2 & 0 & 0 & 0 \\\\\n",
    "0 & 1/2 & 0 & 1/2 & 0 & 0 \\\\\n",
    "0 & 0 & 1/2 & 0 & 1/2 & 0 \\\\\n",
    "0 & 0 & 0 & 1/2 & 0 & 1/2 \\\\ \n",
    "0 & 0 & 0 & 0 & 0 & 1 \\\\\n",
    "\\end{array}\\right)$$"
   ]
  },
  {
   "cell_type": "code",
   "execution_count": 239,
   "metadata": {},
   "outputs": [
    {
     "data": {
      "text/plain": [
       "array([[0.6, 0. , 0. , 0. , 0. , 0.4]])"
      ]
     },
     "execution_count": 239,
     "metadata": {},
     "output_type": "execute_result"
    }
   ],
   "source": [
    "P=np.matrix([[1 , 0 , 0 , 0 , 0 , 0],\n",
    "            [1/2 , 0 , 1/2 , 0 , 0 , 0],\n",
    "            [0 , 1/2 , 0 , 1/2 , 0 , 0],\n",
    "            [0 , 0 , 1/2 , 0 , 1/2 , 0],\n",
    "            [0 , 0 , 0 , 1/2 , 0 , 1/2],\n",
    "            [0 , 0 , 0 , 0 , 0 ,1]])\n",
    "a=np.array([0,0,1,0,0,0])\n",
    "(a*P**100).round(4)"
   ]
  },
  {
   "cell_type": "markdown",
   "metadata": {},
   "source": [
    "(c) As seen from the results from (a) and (b) we can see that the simulation is a bit off, even after 10,000 simulations."
   ]
  }
 ],
 "metadata": {
  "kernelspec": {
   "display_name": "Python 3.6",
   "language": "python",
   "name": "python3"
  },
  "language_info": {
   "codemirror_mode": {
    "name": "ipython",
    "version": 3
   },
   "file_extension": ".py",
   "mimetype": "text/x-python",
   "name": "python",
   "nbconvert_exporter": "python",
   "pygments_lexer": "ipython3",
   "version": "3.6.8"
  }
 },
 "nbformat": 4,
 "nbformat_minor": 2
}

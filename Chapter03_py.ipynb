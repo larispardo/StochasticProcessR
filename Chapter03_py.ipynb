{
 "cells": [
  {
   "cell_type": "markdown",
   "metadata": {},
   "source": [
    "# Chapter 2 Exercises\n",
    "In this notebook we will go through the exercises of chapter 2 of Introduction to Stochastic Processes with R by Robert Dobrow."
   ]
  },
  {
   "cell_type": "code",
   "execution_count": 1,
   "metadata": {},
   "outputs": [],
   "source": [
    "import numpy as np"
   ]
  },
  {
   "cell_type": "markdown",
   "metadata": {},
   "source": [
    "## 3.1\n",
    "Consider a Markov chain with transition Matrix\n",
    "$$P=\\left(\\begin{array}{cc}\n",
    "1/2 & 1/4 & 0 & 1/4 \\\\\n",
    "0 & 1/2 & 1/2 & 0\\\\\n",
    "1/4 & 1/4 & 1/2 & 0 \\\\\n",
    "0 & 1/4 & 1/2 & 1/4\n",
    "\\end{array}\\right)$$\n",
    "Find the stationary distribution without using technology"
   ]
  },
  {
   "cell_type": "markdown",
   "metadata": {},
   "source": [
    "### Answer\n",
    "We have 5 equations with 4 variables:\n",
    "$$\\begin{align}\n",
    "1/2 \\pi_1 +1/4\\pi_3 &= \\pi_1 \\\\\n",
    "1/4 \\pi_1 +1/2\\pi_2+1/4\\pi_3+1/4\\pi_4 &= \\pi_2 \\\\\n",
    "1/2\\pi_2+1/2\\pi_3+1/2\\pi_4 &= \\pi_3 \\\\\n",
    "1/4 \\pi_1 +1/4\\pi_4 &= \\pi_4 \\\\\n",
    "\\pi_1+\\pi_2+\\pi_3+\\pi_4=1\n",
    "\\end{align}$$\n",
    "$=>$\n",
    "$$\\begin{align}\n",
    "\\pi_1  &= 3\\pi_4 \\\\\n",
    "\\pi_3 &= 6\\pi_4 \\\\\n",
    "\\pi_2 &= 5\\pi_4 \\\\\n",
    "\\pi_4 &= 1/15 \\\\\n",
    "\\pi_2 &= 1/3 \\\\\n",
    "\\pi_3 &= 2/5 \\\\\n",
    "\\pi_1 &= 1/5 \\\\\n",
    "\\end{align}$$\n",
    "then $\\pi = (1/5, 1/3, 2/4, 1/15)$"
   ]
  },
  {
   "cell_type": "code",
   "execution_count": 2,
   "metadata": {},
   "outputs": [
    {
     "data": {
      "text/plain": [
       "(matrix([[0.2       , 0.33333333, 0.4       , 0.06666667]]),\n",
       " array([0.2       , 0.33333333, 0.4       , 0.06666667]))"
      ]
     },
     "execution_count": 2,
     "metadata": {},
     "output_type": "execute_result"
    }
   ],
   "source": [
    "pi = np.array([1/5, 1/3, 2/5, 1/15])\n",
    "P = np.matrix([[1/2 , 1/4 , 0 , 1/4],\n",
    "[0 , 1/2 , 1/2 , 0],\n",
    "[1/4 , 1/4 , 1/2 , 0],\n",
    "[0 , 1/4 , 1/2 , 1/4]])\n",
    "pi*P, pi"
   ]
  },
  {
   "cell_type": "markdown",
   "metadata": {},
   "source": [
    "## 3.2\n",
    "A stochastic matrix is called *doubly stochastic* if its rows and columns sum to 1. Show that a Markov chain whose transition matrix is doubly stochastic has a stationary distribution, which is uniform on the state space."
   ]
  },
  {
   "cell_type": "markdown",
   "metadata": {},
   "source": [
    "### Answer\n",
    "Let's remember that then the distribution at $X_n$ is $\\alpha P^n$, let's see what happens at $n=1$\n",
    "\n",
    "$n=1$\n",
    "$$X_1=\\alpha P = \\left(\\begin{array}{cc}\n",
    "1/k &1/k&...& 1/k\n",
    "\\end{array}\\right)\\left(\\begin{array}{cc}\n",
    "p_{1,1} & p_{1,2} & ... & p_{1,k} \\\\\n",
    "p_{2,1} & p_{2,2} & ... & p_{2,k} \\\\\n",
    "...  \\\\\n",
    "p_{k,1} & p_{k,2} & ... & p_{k,k} \\\\\n",
    "\\end{array}\\right)=\\left(\\begin{array}{cc}\n",
    "p_{1,1}*1/k + p_{2,1}*1/k + ... + p_{k,1}*1/k \\\\\n",
    "p_{1,2}*1/k + p_{2,2}*1/k + ... + p_{k,2}*1/k \\\\\n",
    "...  \\\\\n",
    "p_{1,k}*1/k + p_{2,k}*1/k + ... + p_{k,k}*1/k \\\\\n",
    "\\end{array}\\right)^T=\\left(\\begin{array}{cc}\n",
    "(p_{1,1} + p_{2,1} + ... + p_{k,1})*1/k\\\\\n",
    "(p_{1,2} + p_{2,2} + ... + p_{k,2})*1/k \\\\\n",
    "...  \\\\\n",
    "(p_{1,k} + p_{2,k} + ... + p_{k,k})*1/k \\\\\n",
    "\\end{array}\\right)^T = \\left(\\begin{array}{cc}\n",
    "(1)*1/k\\\\\n",
    "(1)*1/k \\\\\n",
    "...  \\\\\n",
    "(1)*1/k \\\\\n",
    "\\end{array}\\right)^T=\\alpha\n",
    "$$\n",
    "This last step is due to the matrix being double stochastic"
   ]
  },
  {
   "cell_type": "markdown",
   "metadata": {},
   "source": [
    "## 3.3\n",
    "Consider a Markov chain with transition Matrix. Determine if they are regular.\n",
    "$$P=\\left(\\begin{array}{cc}\n",
    "0.4 & 0.6 & 0 & 0 \\\\\n",
    "0 & 0 & 1 & 0\\\\\n",
    "0 & 0 & 0 & 1 \\\\\n",
    "1 & 0 & 0 & 0\n",
    "\\end{array}\\right)$$\n",
    "\n",
    "\n",
    "$$Q=\\left(\\begin{array}{cc}\n",
    "0 & 1 \\\\\n",
    "p & 1-p \n",
    "\\end{array}\\right)$$\n",
    "\n",
    "\n",
    "$$R=\\left(\\begin{array}{cc}\n",
    "0 & 1 & 0 \\\\\n",
    "0.25 & 0.5 & 0.25 \\\\\n",
    "1 & 0 & 0 \n",
    "\\end{array}\\right)$$"
   ]
  },
  {
   "cell_type": "markdown",
   "metadata": {},
   "source": [
    "### Answer\n",
    "Since all the values have probability of existing in matrices P and R at all times, then these are regular. For $Q$ then it is regular for $0<p<1$ since when this happens the movement is certain and when $p=0$, it does not change from state 2."
   ]
  },
  {
   "cell_type": "markdown",
   "metadata": {},
   "source": [
    "## 3.4\n",
    "Consider the Markov Chain with transition Matrix:\n",
    "$$R=\\left(\\begin{array}{cc}\n",
    "1-a & a & 0 \\\\\n",
    "0 & 1-b & b \\\\\n",
    "c & 0 & 1-c \n",
    "\\end{array}\\right)$$\n",
    "with $0< a,b,c <1$. Find the stationary distribution"
   ]
  },
  {
   "cell_type": "markdown",
   "metadata": {},
   "source": [
    "### Answer\n",
    "We have 4 equations with 3 variables:\n",
    "$$\\begin{align}\n",
    "(1-a) \\pi_1 + c \\pi_3 &= \\pi_1 \\\\\n",
    "(1-b)\\pi_2+a\\pi_1 &= \\pi_2 \\\\\n",
    "b \\pi_2 +(1-c)\\pi_3 &= \\pi_3 \\\\\n",
    "\\pi_1+\\pi_2+\\pi_3=1\n",
    "\\end{align}$$\n",
    "$=>$\n",
    "$$\\begin{align}\n",
    "\\pi_3  &= a/c\\pi_1 \\\\\n",
    "\\pi_2 &= a/b\\pi_1 \\\\\n",
    "\\pi_1+a/b\\pi_1+a/c\\pi_1 &= 1 \\\\\n",
    "=>  \\\\\n",
    "\\pi_1 &= \\frac{bc}{ab+ac+bc} \\\\\n",
    "\\pi_2 &= \\frac{ac}{ab+ac+bc} \\\\\n",
    "\\pi_3 &= \\frac{ab}{ab+ac+bc} \\\\\n",
    "\\end{align}$$\n",
    "then $\\pi = (\\frac{bc}{ab+ac+bc}, \\frac{ac}{ab+ac+bc}, \\frac{ab}{ab+ac+bc})$"
   ]
  },
  {
   "cell_type": "code",
   "execution_count": 3,
   "metadata": {},
   "outputs": [
    {
     "data": {
      "text/plain": [
       "(matrix([[0.28, 0.56, 0.16]]), array([0.28, 0.56, 0.16]))"
      ]
     },
     "execution_count": 3,
     "metadata": {},
     "output_type": "execute_result"
    }
   ],
   "source": [
    "# An example with a=0.4, b=0.2, c=0.7\n",
    "pi = np.array([.2*.7/(.4*.2+.2*.7+.4*.7), .4*.7/(.4*.2+.2*.7+.4*.7), .2*.4/(.4*.2+.2*.7+.4*.7)])\n",
    "P = np.matrix([\n",
    "[.6 , .4 , 0],\n",
    "[0 , .8 , .2 ],\n",
    "[.7 , 0 , .3]])\n",
    "pi*P, pi"
   ]
  },
  {
   "cell_type": "markdown",
   "metadata": {},
   "source": [
    "## 3.5\n",
    "Consider a Markov chain with transition Matrix\n",
    "$$P=\\left(\\begin{array}{cc}\n",
    "0 & 1/4 & 0 & 0 & 3/4 \\\\\n",
    "3/4 & 0 & 0 & 0 & 1/4\\\\\n",
    "0 & 0 & 1 & 0 & 0 \\\\\n",
    "0 & 0 & 0 & 1 & 0 \\\\\n",
    "1/4 & 3/4 & 0 & 0 & 0\n",
    "\\end{array}\\right)$$\n",
    "(a) Describe the set of the stationary distributions for  the chain.\n",
    "\n",
    "(b) Use technology to find the $lim_{n\\to \\infty}P^n$. Explain the long-term behavior of the chain.\n",
    "\n",
    "(c) Explain why the chain does not have a limiting distribution, and why this does not contradict the existence of a limiting matrix as in (b)"
   ]
  },
  {
   "cell_type": "markdown",
   "metadata": {},
   "source": [
    "### Answer\n",
    "(a)\n",
    "\n",
    "There is the same probability of catching into state 1,2 and 5 (because of the transition matrix is a double stochastic matrix), so the set of all stationary distributions are:\n",
    "$(a,a,b,c,a)$ where 3a+b+c=1, although it is necessary to state that you can never reach any other state if you start at state b or c so if you start on this states then these are 1 since you do not move on those states."
   ]
  },
  {
   "cell_type": "code",
   "execution_count": 4,
   "metadata": {},
   "outputs": [
    {
     "data": {
      "text/plain": [
       "matrix([[0.33333333, 0.33333333, 0.        , 0.        , 0.33333333],\n",
       "        [0.33333333, 0.33333333, 0.        , 0.        , 0.33333333],\n",
       "        [0.        , 0.        , 1.        , 0.        , 0.        ],\n",
       "        [0.        , 0.        , 0.        , 1.        , 0.        ],\n",
       "        [0.33333333, 0.33333333, 0.        , 0.        , 0.33333333]])"
      ]
     },
     "execution_count": 4,
     "metadata": {},
     "output_type": "execute_result"
    }
   ],
   "source": [
    "# (b)\n",
    "P = np.matrix([[0 , 1/4 , 0 , 0 , 3/4],\n",
    "[3/4 , 0 , 0 , 0 , 1/4],\n",
    "[0, 0 , 1 , 0 , 0],\n",
    "[0, 0 , 0 , 1 , 0],\n",
    "[1/4 , 3/4 , 0 , 0 , 0]])\n",
    "P**100"
   ]
  },
  {
   "cell_type": "markdown",
   "metadata": {},
   "source": [
    "This means that if the chain starts at state 3 or 4, then you are stuck in there, whereas if you start on position 1,2 or 5, then you can be at any of these 3 states in a probability of 1/3 (since the matrix is a double stochastic matrix)"
   ]
  },
  {
   "cell_type": "markdown",
   "metadata": {},
   "source": [
    "(c) There is no limit distribution since the limit distribution will bepend on which state you start on, but there is an stationary matrix because it shows you the limiting distribution for starting at state x (with x=1,2,3,4 or 5). This is because there exist 3 different commuinication classes."
   ]
  },
  {
   "cell_type": "markdown",
   "metadata": {},
   "source": [
    "## 3.6 \n",
    "Consider a Markov Chain with transition matirx\n",
    "$$P=\\left(\\begin{array}{cc}\n",
    "1/2 & 1/2 & 0 & 0 & .. \\\\\n",
    "2/3 & 0 & 1/3 & 0 & ..\\\\\n",
    "3/4 & 0 & 0 & 1/4 & .. \\\\\n",
    "4/5 & 0 & 0 & 0 & .. \\\\\n",
    ". & . & . & . & .\n",
    "\\end{array}\\right)$$\n",
    "\n",
    "defined by\n",
    "    $$ P_{i,j}=   \\left\\{\n",
    "\\begin{array}{ll}\n",
    "      i/(i+1) & \\text{if j = 1} \\\\\n",
    "      1/(i+1) & \\text{if j = i+1} \\\\\n",
    "      0& \\text{otherwise} \\\\\n",
    "\\end{array} \n",
    "\\right.  $$\n",
    "(a) Does the chain have an stationary distribution? If yes, exhibit its behavior, if no, explain why\n",
    "\n",
    "(b) Classify the states of the chain\n",
    "\n",
    "(c) Repeat part (a) with the row entries of $\\textbf{P}$ switched. That is, let \n",
    "    $$ P_{i,j}=   \\left\\{\n",
    "\\begin{array}{ll}\n",
    "      1/(i+1) & \\text{if j = 1} \\\\\n",
    "      i/(i+1) & \\text{if j = i+1} \\\\\n",
    "      0& \\text{otherwise} \\\\\n",
    "\\end{array} \n",
    "\\right.  $$"
   ]
  },
  {
   "cell_type": "markdown",
   "metadata": {},
   "source": [
    "### Answer\n",
    "(a) The chain does not have an stationary distribution, this because it does not matter how far it is down the line it would always be able to go back to state 0 and start over again. This means that after an infinity amount of jumps it can always go back to the beginning and start all over again "
   ]
  },
  {
   "cell_type": "markdown",
   "metadata": {},
   "source": [
    "(b) The chain is an infinite, irreducible and recurrent chain. "
   ]
  },
  {
   "cell_type": "markdown",
   "metadata": {},
   "source": [
    "(a) the same case as A applyies, eventhough the probability of going back to the beginning, this chain does not have a limiting distribution. "
   ]
  },
  {
   "cell_type": "markdown",
   "metadata": {},
   "source": [
    "## 3.7\n",
    "A Markov chain has n states. If the chain is at state k, a coin is flipped, whose heads probability is $p$. If the coin lands heads, the chain stays at $k$. if the coin lands tails, the chaiin moves to a different state uniformly at random. Exhibit the transition matrix and find the stationary distribution."
   ]
  },
  {
   "cell_type": "markdown",
   "metadata": {},
   "source": [
    "### Answer\n",
    "Let's see the matrix:\n",
    "$$P=\\left(\\begin{array}{cc}\n",
    "p & q/n & q/n & q/n & .. \\\\\n",
    "q/n & p & q/n & q/n & .. \\\\\n",
    "q/n & q/n & p & q/n & .. \\\\\n",
    "q/n & q/n & q/n & p & .. \\\\\n",
    ".&.&.&.&.\n",
    "\\end{array}\\right)$$\n",
    "It is clear that the rows and columns are equal, hence, double stochastic. Then the stationary distribution is uniform."
   ]
  }
 ],
 "metadata": {
  "kernelspec": {
   "display_name": "Python 3.6",
   "language": "python",
   "name": "python3"
  },
  "language_info": {
   "codemirror_mode": {
    "name": "ipython",
    "version": 3
   },
   "file_extension": ".py",
   "mimetype": "text/x-python",
   "name": "python",
   "nbconvert_exporter": "python",
   "pygments_lexer": "ipython3",
   "version": "3.6.8"
  }
 },
 "nbformat": 4,
 "nbformat_minor": 2
}

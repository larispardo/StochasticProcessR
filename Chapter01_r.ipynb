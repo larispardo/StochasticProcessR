{
 "cells": [
  {
   "cell_type": "markdown",
   "metadata": {},
   "source": [
    "# Chapter 1 Exercises\n",
    "In this notebook we will go through the exercises of chapter 1 of Introduction to Stochastic Processes with R by Robert Dobrow."
   ]
  },
  {
   "cell_type": "markdown",
   "metadata": {},
   "source": [
    "### 1.1\n",
    "For the following scenarios identify the stochastic process {$X_t, t \\in I$}, describing (i) $X_t$ in context (ii) state space, and (iii) index Set. State whether the state space and index are discrete or continuous.\n",
    "\n",
    "    b) At the end of each year, a 4-year college student either advances in grade repeats the grade or drops out\n",
    "    Answer:\n",
    "let $X_t$ denote the state of the student at the end of the year $t$. This is a discrete space with $S=$ {Advances, Repeats, Drop out} for $I=${1,2,...}\n",
    "    \n",
    "    c) Seismologists record daily earthquake magnitudes in Chile. the largest recorded earthquake in history was the Valdivia, Chile earthquake on May 22 1960, which had a magnitude of 9.5 on Richter scale.\n",
    "Answer:\n",
    "ley $X_t$ the magnitude of earthquake t. and with continuous Space $S =$ (0,9.5] and $I=$ {0,1,2,...}\n",
    "    \n",
    "    d)Data are kept on circumferences of trees in an arboretum. The arboretum covers a two square-mile area.\n",
    "    Answer:\n",
    "ley $X_t$ the circumference of tree t. and with continuous Space $S =$ (0,max(circum)] and $I=$ {0,1,2,...}\n",
    "    \n",
    "    e) Starting Monday morning at 9 a.m., as students arrive to class, the teacher records the student arrival times. The class has 30 students and lasts for 60 minutes.\n",
    "    Answer:\n",
    "ley $X_t$ arrival time of student t. and with continuous Space $S =$ $[0,60]$ and $I=$ {0,1,2,...,30}\n",
    "    \n",
    "    f) A card player shuffles a standard deck of cards by the following method: the top card of the deck is placed somewhere in the deck at random. The player does this 100 times to mix up the deck.\n",
    "    Answer:\n",
    "ley $X_t$ the order of the cards at shuffle t. and with Discrete Space $S =$ 52! and $I=$ {0,1,2,...,100}\n",
    "    "
   ]
  },
  {
   "cell_type": "markdown",
   "metadata": {},
   "source": [
    "### 1.2\n",
    "A regional Insurance company insures homeowners against flood damage. Half of their policyholders are in florida 30% in Louisiana, and 20% in Texas. Company Actuaries Inc. give the estimate table 1.1 for the probability that a policy holder will file a claim for flood damage over the next year. \n",
    "\n",
    "    a) find the probability that a random policyholder will file a claim for flood damage next year.\n",
    "    b) a claim was filed. Find the probability that the policyholder is from texas \n",
    "|  | Table 1.1 Probability of claim for flood damage | |\n",
    "| --- | :-: | --- |\n",
    "| Florida | Louisiana | Texas |\n",
    "| 0.03 | 0.015 | 0.02 |"
   ]
  },
  {
   "cell_type": "markdown",
   "metadata": {},
   "source": [
    "#### Answer \n",
    "using the law of total probability, then we need to calculate \n",
    "$$P(claim)=\\sum_{state} P(claim|State)*P(State)$$"
   ]
  },
  {
   "cell_type": "code",
   "execution_count": 5,
   "metadata": {},
   "outputs": [
    {
     "data": {
      "text/html": [
       "0.0235"
      ],
      "text/latex": [
       "0.0235"
      ],
      "text/markdown": [
       "0.0235"
      ],
      "text/plain": [
       "[1] 0.0235"
      ]
     },
     "metadata": {},
     "output_type": "display_data"
    }
   ],
   "source": [
    "prob_a = 0.5*0.03+0.3*0.015+0.2*0.02\n",
    "prob_a"
   ]
  },
  {
   "cell_type": "markdown",
   "metadata": {},
   "source": [
    "In the second case we want to find the probability that it comes from texas given that a claim happened, then we want:\n",
    "$$P(Texas|claim)=\\frac{P(claim \\cap Texas)}{P(claim)}=\\frac{P(claim|Texas)P(Texas)}{P(claim)}$$"
   ]
  },
  {
   "cell_type": "code",
   "execution_count": 6,
   "metadata": {},
   "outputs": [
    {
     "data": {
      "text/html": [
       "0.170212765957447"
      ],
      "text/latex": [
       "0.170212765957447"
      ],
      "text/markdown": [
       "0.170212765957447"
      ],
      "text/plain": [
       "[1] 0.1702128"
      ]
     },
     "metadata": {},
     "output_type": "display_data"
    }
   ],
   "source": [
    "0.2*0.02/prob_a"
   ]
  },
  {
   "cell_type": "markdown",
   "metadata": {},
   "source": [
    "### 1.3\n",
    "let $B_1,...,B_k$ be a partition of the sample space. For events A and C, prove the law of total probability for conditional probability.\n",
    "$$P(A|C)=\\sum_{i=1}^{k}P(A|B_i \\cap C)P(B_i|C)$$"
   ]
  },
  {
   "cell_type": "markdown",
   "metadata": {},
   "source": [
    "#### Answer\n",
    "\n",
    "To answer this let's expand the right part of the equalityt\n",
    "\\begin{align}\n",
    "\\sum_{i=1}^{k}P(A|B_i \\cap C)P(B_i|C) & = \\sum_{i=1}^{k}\\frac{P(A \\cap B_i \\cap C)}{P(B_i \\cap C)} \\frac{P(B_i \\cap C)}{P(C)} \\\\\n",
    " & = \\sum_{i=1}^{k}\\frac{P(A \\cap B_i \\cap C)}{P(C)} \\\\\n",
    " & = \\frac{1}{P(C)}\\sum_{i=1}^{k}P(A \\cap B_i \\cap C) \\\\\n",
    " & = \\frac{P(A \\cap C)}{P(C)} = P(A|C)\n",
    "\\end{align}"
   ]
  },
  {
   "cell_type": "markdown",
   "metadata": {},
   "source": [
    "### 1.4 \n",
    "See exercise 1.2 Among all policyholders who live within five miles of the Atlantic Ocean, 75% live in florida, 20% in Louisiana and 5% live in Taxas. For thosewho live close to the ocean the probabilities of filing a claim increase as given in table 1.2.\n",
    "\n",
    "Assume that the policyholder lives within five miles of the Atlantic Coast. Use the law of total probability fot conditional probability in Exercise 1.3 to find the chance that they will file a claim for flood damage next year.\n",
    "\n",
    "|  | Table 1.2 Probability of claim for those within 5 miles | |\n",
    "| --- | :-: | --- |\n",
    "| Florida | Louisiana | Texas |\n",
    "| 0.1 | 0.06 | 0.06 |"
   ]
  },
  {
   "cell_type": "markdown",
   "metadata": {},
   "source": [
    "#### Answer\n",
    "What we are looking for is:\n",
    "$$P(claim|5m)=\\sum_{state}P(claim | State \\cap 5m)*P(State | 5m)$$\n",
    "\n",
    "Note here that the partition is the state, that is why we are not looking to find the same result as before."
   ]
  },
  {
   "cell_type": "code",
   "execution_count": 7,
   "metadata": {},
   "outputs": [
    {
     "data": {
      "text/html": [
       "0.09"
      ],
      "text/latex": [
       "0.09"
      ],
      "text/markdown": [
       "0.09"
      ],
      "text/plain": [
       "[1] 0.09"
      ]
     },
     "metadata": {},
     "output_type": "display_data"
    }
   ],
   "source": [
    "prob_claimG5m = 0.1*0.75+0.06*0.2+0.06*0.05\n",
    "prob_claimG5m"
   ]
  },
  {
   "cell_type": "markdown",
   "metadata": {},
   "source": [
    "### 1.5\n",
    "Two fais-sided dice are rolled let $X_1,X_2$ be the outcomes of the first and second die respectively.\n",
    "    \n",
    "- a) find the conditional distribution of $X_2$ given that $X_1+X_2=7$\n",
    "- b) find the conditional distribution of $X_2$ given that $X_1+X_2=8$"
   ]
  },
  {
   "cell_type": "markdown",
   "metadata": {},
   "source": [
    "#### Answer\n",
    "we want $P(X_2|X_1+X_2=7)$ we can see that the values of $X_2$ are uniformly distributed {$1,2,3,4,5,6$} the reason for this is that if $X_1+X_2=7$, then if $X_1$ was 1, then $X_2$ needs to be 6, and so on with all the numbers that $X_1$ and $X_2$ can be.\n",
    "\n",
    "in b) the solution comes from the same logic, but $X_2$ can never be 1 since $X_1$ would need to be 7 to make the sum 8, but 7 is not in the dice."
   ]
  },
  {
   "cell_type": "markdown",
   "metadata": {},
   "source": [
    "### 1.6\n",
    "Bob has n coins in his pocket. One is two-headed, the rest are fair. A coin is picked at randomm flipped and shows heads. Find the probability that the coin is two headed."
   ]
  },
  {
   "cell_type": "markdown",
   "metadata": {},
   "source": [
    "#### Answer \n",
    "Let's say that H is the probability of obtaining a heads and S is the probability of getting a two sided head coin, then what the want is the following:\n",
    "$$P(S|H)=\\frac{P(S \\cap H)}{P(H)}$$\n",
    "but we can see that $P(S \\cap H) = P(S)$ Since you are always going to get the heads if you have the two sided head coin, then we just need to look for the $P(S)$ and $P(H)$ and \n",
    "$$P(S) = 1/n$$\n",
    "$$P(H) = \\frac{1}{n}*1+\\sum_{n-1}^{i=1}\\frac{1}{n}*\\frac{1}{2}=\\frac{1}{n}+\\frac{n-1}{2n} = \\frac{n+1}{2n}$$\n",
    "Then\n",
    "$$P(S|H)=\\frac{1/n}{n+1/(2n)}=\\frac{2n}{n(n+1))}= \\frac{2}{n+1}$$\n"
   ]
  },
  {
   "cell_type": "code",
   "execution_count": 13,
   "metadata": {},
   "outputs": [
    {
     "name": "stdout",
     "output_type": "stream",
     "text": [
      " [1]  0  1  2  3  4  5  6  7  8  9 10\n"
     ]
    },
    {
     "data": {
      "text/html": [
       "0.188773686092242"
      ],
      "text/latex": [
       "0.188773686092242"
      ],
      "text/markdown": [
       "0.188773686092242"
      ],
      "text/plain": [
       "[1] 0.1887737"
      ]
     },
     "metadata": {},
     "output_type": "display_data"
    }
   ],
   "source": [
    "CoinFlipSim <- function(n = 10, sims = 1000){\n",
    "    # Note that for n = 10 the probability 2/11=0.1818\n",
    "    results = 0\n",
    "    heads = 0\n",
    "    for(i in 1:sims){\n",
    "        coin = sample(1:10, 1)\n",
    "        if(coin == 1){\n",
    "            results = results + 1\n",
    "            heads = heads + 1\n",
    "        }else{\n",
    "            if(runif(1) < 0.5){\n",
    "                heads = heads + 1\n",
    "            }\n",
    "        }\n",
    "        \n",
    "    }\n",
    "    return(results/heads)\n",
    "}\n",
    "CoinFlipSim(sims=10000)"
   ]
  },
  {
   "cell_type": "markdown",
   "metadata": {},
   "source": [
    "### 1.7 \n",
    "A rat is trapped in a maze with three doors and some hidden cheese. If the rat takes door one, he will wander around the maze for 2 minutes and return to where he started. If he takes door two, he will wander around the maze for 3 munutes and return to where he started. If he takes door three, he will find the cheese after one minute.  If the rat returns to where he started, then picks a new door. He picks a door by random, how long in average will it take it to get the cheese."
   ]
  },
  {
   "cell_type": "markdown",
   "metadata": {},
   "source": [
    "#### Answer\n",
    "The key point here is to see that the expected value can be seen as a summ of the conditional expectations (due to the law of total expectation, then let $X$ be the time to reach the cheese and Y the door the rat chose we have:\n",
    "\\begin{align}\n",
    "E(X) &= E(E(X|Y)) \\\\\n",
    " & = E(X|1)P(X=1)+E(X|2)P(X=2)+E(X|3)P(X=3) \\\\\n",
    " & = (2+E(X))1/3+(3+E(X))1/3+1/3 \\\\\n",
    " & = 2/3+1+1/3+2E(X)/3\n",
    "\\end{align}\n",
    "\n",
    "Then $E(X)=6$, it is important to note that the 2 and 3 and 1 come from the time it takes the rat to go back or eat the cheese and since it goes back to the beginning, then counting from there we have again the $E(X)$.\n",
    "\n",
    "this means that the rat will get to the cheese in 6 minutes "
   ]
  },
  {
   "cell_type": "code",
   "execution_count": 22,
   "metadata": {},
   "outputs": [
    {
     "data": {
      "text/html": [
       "6.0268"
      ],
      "text/latex": [
       "6.0268"
      ],
      "text/markdown": [
       "6.0268"
      ],
      "text/plain": [
       "[1] 6.0268"
      ]
     },
     "metadata": {},
     "output_type": "display_data"
    }
   ],
   "source": [
    "RatTimeMaze <- function(sims = 10000){\n",
    "    results = c()\n",
    "    for(i in 1:sims){\n",
    "        time = ChooseDoor(0)\n",
    "        results = c(results,time)\n",
    "    }\n",
    "    return(sum(results)/length(results))\n",
    "}\n",
    "        \n",
    "\n",
    "ChooseDoor <- function(t){\n",
    "    rand = runif(1)\n",
    "    if(rand < 1/3){\n",
    "        t=t+2\n",
    "        return(ChooseDoor(t))\n",
    "    }\n",
    "    else if(rand < 2/3){\n",
    "        t=t+3\n",
    "        return(ChooseDoor(t))\n",
    "    }\n",
    "    else{\n",
    "        t=t+1\n",
    "        return(t)\n",
    "    }\n",
    "}\n",
    "RatTimeMaze()"
   ]
  },
  {
   "cell_type": "markdown",
   "metadata": {},
   "source": [
    "### 1.8 \n",
    "A bag contains 1 red, 3 green and 5 yellow balls. A sample of four balls is picked. Let $G$ be the number of green balls in the sample. Let $Y$ be the number of yellow balls in the sample.\n",
    "\n",
    "- a) Find the conditional probability mass function of $G$ given $Y=2$ assyming the sample is picked without replacement.\n",
    "- b) Find the conditional probability mass function of $G$ given $Y=2$ assyming the sample is picked with replacement."
   ]
  },
  {
   "cell_type": "markdown",
   "metadata": {},
   "source": [
    "#### Answer\n",
    "Since there have already been picked 2, then we only need to check for three cases $G=0,1,2$. In this case since we are looking for without replacement, then \n",
    "$$P(G=g|Y=2)=\\frac{P(G=g \\cap Y=2)}{P(Y=2)}$$\n",
    "Let's calculate $P(Y=2)$\n",
    "$$P(Y=2)==\\frac{{5 \\choose 2}{4 \\choose 2}}{{9 \\choose 4}}$$\n",
    "and \n",
    "$$P(G=g \\cap Y=2)==\\frac{{5 \\choose 2}{3 \\choose g}{1 \\choose 2-g}}{{9 \\choose 4}}$$\n",
    "when $1-g \\geq 1$ \n",
    "Then we see that when $G=0$ this does not work, and both equations have the same denominator, then\n",
    "$$P(G=1|Y=2)=\\frac{{5 \\choose 2}{3 \\choose 1}{1 \\choose 1}}{{5 \\choose 2}{4 \\choose 2}}$$\n",
    "$$P(G=2|Y=2)=\\frac{{5 \\choose 2}{3 \\choose 2}}{{5 \\choose 2}{4 \\choose 2}}$$"
   ]
  },
  {
   "cell_type": "code",
   "execution_count": 32,
   "metadata": {},
   "outputs": [
    {
     "data": {
      "text/html": [
       "'0.500000, 0.500000'"
      ],
      "text/latex": [
       "'0.500000, 0.500000'"
      ],
      "text/markdown": [
       "'0.500000, 0.500000'"
      ],
      "text/plain": [
       "[1] \"0.500000, 0.500000\""
      ]
     },
     "metadata": {},
     "output_type": "display_data"
    }
   ],
   "source": [
    "p1 = choose(3,1)/choose(4,2) \n",
    "p2 = choose(3,2)/choose(4,2) \n",
    "sprintf(\"%f, %f\", p1, p2)"
   ]
  },
  {
   "cell_type": "markdown",
   "metadata": {},
   "source": [
    "There fore the answer is \n",
    "$$P(G=1|Y=2)=0.5$$\n",
    "$$P(G=2|Y=2)=0.5$$"
   ]
  },
  {
   "cell_type": "markdown",
   "metadata": {},
   "source": [
    "For case b) we have that $P(Y=2)$ is a binomial distribution and $P(G=g \\cap Y=2)$ is a multinomial distribution. Then\n",
    "$$P(Y=2)={4 \\choose 2}\\biggl( \\frac{5}{9} \\biggr)^2 \\biggl( \\frac{4}{9} \\biggr)^2$$\n",
    "$$P(G=g \\cap Y=2)=\\frac{4!}{2!g!(2-g)!}\\biggl( \\frac{5}{9} \\biggr)^2 \\biggl( \\frac{3}{9} \\biggr)^g\\biggl( \\frac{1}{9} \\biggr)^{2-g}$$\n",
    "Then"
   ]
  },
  {
   "cell_type": "code",
   "execution_count": 31,
   "metadata": {},
   "outputs": [
    {
     "data": {
      "text/html": [
       "'0.062500, 0.375000, 0.562500 '"
      ],
      "text/latex": [
       "'0.062500, 0.375000, 0.562500 '"
      ],
      "text/markdown": [
       "'0.062500, 0.375000, 0.562500 '"
      ],
      "text/plain": [
       "[1] \"0.062500, 0.375000, 0.562500 \""
      ]
     },
     "metadata": {},
     "output_type": "display_data"
    }
   ],
   "source": [
    "py = choose(4,2)*(5/9)**2*(4/9)**2\n",
    "p0 = (factorial(4)/(factorial(2)*factorial(2))*(5/9)**2*(1/9)**2)/py\n",
    "p1 = (factorial(4)/(factorial(2))*(5/9)**2*(1/9)*(3/9))/py\n",
    "p2 = (factorial(4)/(factorial(2)*factorial(2))*(5/9)**2*(3/9)**2)/py\n",
    "sprintf(\"%f, %f, %f \", p0, p1, p2)"
   ]
  },
  {
   "cell_type": "markdown",
   "metadata": {},
   "source": [
    "There fore the answer is \n",
    "$$P(G=0|Y=2)=0.0625$$\n",
    "$$P(G=1|Y=2)=0.375$$\n",
    "$$P(G=2|Y=2)=0.5625$$"
   ]
  },
  {
   "cell_type": "markdown",
   "metadata": {},
   "source": [
    "## 1.9\n",
    "Assume that X is uniformly distributed {$1,2,3,4$}. If X=x, then Y is uniformly distributed {$1,...,x$}. Find\n",
    "\n",
    "- a)$P(Y=2|X=2)$\n",
    "- b)$P(Y=2)$\n",
    "- a)$P(X=2|Y=2)$\n",
    "- a)$P(X=2)$\n",
    "- a)$P(Y=2,X=2)$"
   ]
  },
  {
   "cell_type": "markdown",
   "metadata": {},
   "source": [
    "### Answer\n",
    "a) $P(Y=2|X=2) = 1/2$ since Y is uniformly distributed {$1,2$}\n",
    "\n",
    "b) using the law of total probability:\n",
    "$$P(Y=2) = P(Y=2|X=2)P(X=2)+ P(Y=2|X=3)P(X=3)+P(Y=2|X=4)P(X=4) = 1/2*1/4+1/3*1/4+1/4+1/4$$\n",
    "which makes\n",
    "$$P(Y=2) = 0.270833  $$\n",
    "\n",
    "c) $P(X=2|Y=2) = \\frac{P(Y=2,X=2)}{P(Y=2)} = \\frac{P(Y=2|X=2)P(X=2)}{P(Y=2)}$\n",
    "Then:\n",
    "$$P(X=2|Y=2) = \\frac{1/8}{0.2708} = 0.46154414208174865$$\n",
    "\n",
    "d) $$P(X=2) = 1/4$$\n",
    "\n",
    "c) $$P(Y=2,X=2) = 1/8$$"
   ]
  },
  {
   "cell_type": "code",
   "execution_count": 2,
   "metadata": {},
   "outputs": [
    {
     "data": {
      "text/plain": [
       "0.46154414208174865"
      ]
     },
     "execution_count": 2,
     "metadata": {},
     "output_type": "execute_result"
    }
   ],
   "source": [
    "1/8/0.27083"
   ]
  },
  {
   "cell_type": "markdown",
   "metadata": {},
   "source": [
    "## 1.10 \n",
    "A die is rolled until a 3 occurs. By conditioning the outcome of the first roll, what is the probability that an even number of rolls is needed.\n"
   ]
  },
  {
   "cell_type": "markdown",
   "metadata": {},
   "source": [
    "### Answer\n",
    "Well, the condition just works for the case it is 3 the first roll in which case the probability is zero since it already happened. for the other cases the rolls should be independent of each other, so in this case the probability is the same as asking what is the probability of rolling a three in an odd number of rolls (since the first roll has already happened). \n",
    "\n",
    "in this case to happen on roll number two the probability is $1/6$, for it to happen in 4 rolls it is $5^2/6^3$, in 6 rolls it is $5^4/6^5$. Here the pattern then is that the probability of obtaining this is $\\sum_{i=0}^\\infty 5^{ni}/6^{2i+1}$ which is equal to:\n",
    "\n",
    "$$p = \\frac{1}{6*(1-5^2/6^2)} = \\frac{6}{11}$$\n",
    "\n",
    "If this question is framed to be answered as in question 1.9, then the answer is different (it is known right now that the answer we are looking for is 5/11). First the probability of getting evens can be seen as:\n",
    "\n",
    "$$P(Evens) = P(Evens|R=3)*P(R=3)+P(Evens|R\\neq 3) *P(R\\neq 3)$$\n",
    "\n",
    "It is important to note that since the events of the rolls are independent, then the probability of geting even given that the first roll was not even, then the probability is equal to the probability of getting the roll is odds (as discussed before). This means that if $P(Evens)=p$, then:\n",
    "\n",
    "$$p = 0*1/6+(1-p) *5/6=> 11/6p=5/6 => p=5/11$$\n",
    "\n"
   ]
  },
  {
   "cell_type": "markdown",
   "metadata": {},
   "source": [
    "## 1.11\n",
    "Consider the gambler's ruin process where at each wager the gambler wins with probability p and loses with probability q=1-p. the gambler stops when reaching n or losing all their money. if they start with k, with 0<k<n. What is the probability of eventual ruin?. "
   ]
  },
  {
   "cell_type": "markdown",
   "metadata": {},
   "source": [
    "### Answer\n",
    "\n",
    "Using the same logic as the one presented in the example we have that the $x_k=x_{k+1}p+x_{k-1}q$, but $x_{k+1}-x_k=(x_k-x_{k-1})p/q$. this means:\n",
    "\n",
    "$$x_{k}-x_{k-1}=x_1(p/q)^k-1$$ \n",
    "and\n",
    "$$x_{k}=\\sum_{i=1}^k x_1(p/q)^k-1=x_1\\frac{1-(p/q)^k}{1-(p/q)}$$\n",
    "\n",
    "since we know that $x_n=1$, then:\n",
    "$$1=x_1\\frac{1-(p/q)^n}{1-(p/q)} => x_1=\\frac{1-(p/q)}{1-(p/q)^n}$$\n",
    "\n",
    "Which makes \n",
    "\n",
    "$$x_{k}=\\frac{1-(p/q)^k}{1-(p/q)^n}$$\n"
   ]
  },
  {
   "cell_type": "markdown",
   "metadata": {},
   "source": [
    "## 1.12\n",
    "In n rolls of a fair die, let X be the number of times 1 is rolled, and Y the number of times 2 is rolled. Find the conditional distribution of X given Y=y."
   ]
  },
  {
   "cell_type": "markdown",
   "metadata": {},
   "source": [
    "### Answer\n",
    "here $P(X=x)$ is a binomial distribution, in the case of making it conditional to Y, it still is a binomial distribution since the rolls are independent from each other, but what changes is the amount of times the experiment is done and the probability of getting y, since we know the amount of times 2 has appeared, this means there are only 5 possible outcomes on the die, this means that:\n",
    "$$P(X=x|Y=y)={n-y \\choose x} (1/5)^x (4/5)^{n-y-x}$$"
   ]
  },
  {
   "cell_type": "markdown",
   "metadata": {},
   "source": [
    "## 1.13\n",
    "Random Variables X and Y have probability density function :\n",
    "\n",
    "$$f(x,y)=3y,   for 0<x<y<1$$\n",
    "\n",
    "find the conditionals density functions"
   ]
  },
  {
   "cell_type": "markdown",
   "metadata": {},
   "source": [
    "### Answer\n",
    "Here we do the integrals and we get:\n",
    "\n",
    "$f_Y(y)=\\int_0^y 3y dx = 3y^2, for$ $0<y<1$\n",
    "\n",
    "$f_X(x)=\\int_x^1 3y dy = 3/2(1-x)^2, for$ $0<x<1$\n",
    "\n",
    "then:\n",
    "$$f_{X|Y}(x|y)=1/y,  0<x<y$$\n",
    "$$f_{Y|X}(y|x)=2y/(1-x)^2, x<y<1$$\n",
    "\n",
    "note that the first conditional density is a uniform density function."
   ]
  },
  {
   "cell_type": "markdown",
   "metadata": {},
   "source": [
    "## 1.14 \n",
    "repear exercise 1.13, but with:\n",
    "\n",
    "$$f(x,y)=4e^{-2x}, 0<y<x<\\infty$$\n"
   ]
  },
  {
   "cell_type": "markdown",
   "metadata": {},
   "source": [
    "### Answer\n",
    "Doing the same as before\n",
    "\n",
    "$f_X(x)=4xe^{-2x}, 0<x<\\infty$\n",
    "\n",
    "$f_y(y)=2e^{-2y}, 0<y<\\infty$\n",
    "\n",
    "then\n",
    "$$f_{X|Y}(x|y)=2e^{-2x}/e^{-2y}, y<x<\\infty$$\n",
    "$$f_{Y|X}(y|x)=1/x, 0<y<x$$\n",
    "The last density is a uniform density funciton."
   ]
  },
  {
   "cell_type": "markdown",
   "metadata": {},
   "source": [
    "## 1.15\n",
    "Let X and Y be uniformly distributed in the circle of radius 1 at the origin. find the conditional density function of Y given X=x.\n",
    "\n"
   ]
  },
  {
   "cell_type": "markdown",
   "metadata": {},
   "source": [
    "### Answer\n",
    "The area of a cicle is defined around the bound x^2+y^2=1 and having a number picked x in the circle from 0-1, then it would delimit the y value to bounded by $-\\sqrt{1-x^2}<y<\\sqrt{1-x^2}$ and picking a value from here has to be uniform because of how the value is picked from the circle, then the result is given by:\n",
    "\n",
    "$$f_{Y|X}(y|x)=\\frac{1}{2\\sqrt{1-x^2}}, -\\sqrt{1-x^2}<y<\\sqrt{1-x^2}$$\n",
    "\n"
   ]
  },
  {
   "cell_type": "markdown",
   "metadata": {},
   "source": [
    "## 1.16\n",
    "A poker hand consists of 5 cards from a standard 52-card deck. Find the expected number of aces in a poker hand given that the first one is an ace."
   ]
  },
  {
   "cell_type": "markdown",
   "metadata": {},
   "source": [
    "### Answer\n",
    "Assuming that you draw the cards instantly after from the pool of 51 cards left, then, considering the random variable $X$ as the probability of obtaining $x$ aces in you hand and $Y$ the probability of getting an ace in the first draw, there are only 3 probabilities to calculate and the expected values is represented as follows:\n",
    "\n",
    "$$E[X|Y=1] = 1 P(X=1|Y=1) + 2 P(X=2|Y=1) + 3 P(X=3|Y=1) + 4 P(X=4|Y=1)$$\n",
    "\n",
    "Where $P(X=x|Y=1) = P(X=x \\cap Y=1)/P(y)$\n",
    "\n",
    "Then $P(Y=1)=1/13$, the probability of the first card being dealt being an ace. And:\n",
    "\n",
    "$$P(X=x \\cap Y=1) = \\frac{1}{13}*\\frac{{3 \\choose x-1}*{48 \\choose 3-(x-1)}}{{51 \\choose 3}}$$\n",
    "Then:\n",
    "$$P(X=x | Y=1) = \\frac{{3 \\choose x-1}*{48 \\choose 3-(x-1)}}{{51 \\choose 3}}$$"
   ]
  },
  {
   "cell_type": "code",
   "execution_count": 6,
   "metadata": {},
   "outputs": [
    {
     "data": {
      "text/plain": [
       "(0.8305402160864346,\n",
       " 0.16249699879951982,\n",
       " 0.006914765906362545,\n",
       " 4.801920768307323e-05)"
      ]
     },
     "execution_count": 6,
     "metadata": {},
     "output_type": "execute_result"
    }
   ],
   "source": [
    "def calculate_combinations(n, r):\n",
    "    from math import factorial\n",
    "    return factorial(n) // factorial(r) // factorial(n-r)\n",
    "p1 = calculate_combinations(3,0)*calculate_combinations(48,3)/calculate_combinations(51,3)\n",
    "p2 = calculate_combinations(3,1)*calculate_combinations(48,2)/calculate_combinations(51,3)\n",
    "p3 = calculate_combinations(3,2)*calculate_combinations(48,1)/calculate_combinations(51,3)\n",
    "p4 = calculate_combinations(3,3)*calculate_combinations(48,0)/calculate_combinations(51,3)\n",
    "p1, p2,p3,p4"
   ]
  },
  {
   "cell_type": "markdown",
   "metadata": {},
   "source": [
    "Then the expected value is: 1.17 (calculated bellow)"
   ]
  },
  {
   "cell_type": "code",
   "execution_count": 8,
   "metadata": {},
   "outputs": [
    {
     "data": {
      "text/plain": [
       "1.1764705882352942"
      ]
     },
     "execution_count": 8,
     "metadata": {},
     "output_type": "execute_result"
    }
   ],
   "source": [
    "1*p1+2*p2+3*p3+4*p4"
   ]
  },
  {
   "cell_type": "markdown",
   "metadata": {},
   "source": [
    "## 1.17\n",
    "Let $X$ be a poisson random variable with $\\lambda = 3$ then calculate $E[X|X>2]$"
   ]
  },
  {
   "cell_type": "markdown",
   "metadata": {},
   "source": [
    "### Answer\n",
    "the expected value is given by:\n",
    "$$E[X|X>2] = \\frac{\\sum_{x=3}^{\\infty}P(X=x)}{P(X>2)}$$\n",
    "\n",
    "Then:"
   ]
  },
  {
   "cell_type": "code",
   "execution_count": 9,
   "metadata": {},
   "outputs": [],
   "source": [
    "from scipy.stats import poisson\n",
    "pois = poisson(3)"
   ]
  },
  {
   "cell_type": "code",
   "execution_count": 17,
   "metadata": {},
   "outputs": [
    {
     "data": {
      "text/plain": [
       "0.5768099188731565"
      ]
     },
     "execution_count": 17,
     "metadata": {},
     "output_type": "execute_result"
    }
   ],
   "source": [
    "p2e = 1 - (pois.pmf(0)+pois.pmf(1)+pois.pmf(2))\n",
    "p2e"
   ]
  },
  {
   "cell_type": "code",
   "execution_count": 18,
   "metadata": {},
   "outputs": [
    {
     "data": {
      "text/plain": [
       "4.165245951871308"
      ]
     },
     "execution_count": 18,
     "metadata": {},
     "output_type": "execute_result"
    }
   ],
   "source": [
    "exp = 0\n",
    "for i in range(3,1000):\n",
    "    exp += i*pois.pmf(i)\n",
    "exp/p2e"
   ]
  },
  {
   "cell_type": "markdown",
   "metadata": {},
   "source": [
    "The expected value is then 4.16"
   ]
  },
  {
   "cell_type": "markdown",
   "metadata": {},
   "source": [
    "## 1.18\n",
    "From the definition of conditional expectation given an event, show that:\n",
    "\n",
    "$$E[I_B|A]=P(B|A)$$"
   ]
  },
  {
   "cell_type": "markdown",
   "metadata": {},
   "source": [
    "### Answer\n",
    "Using the definition of conditional expectation and the fact that the indicator function is 1 where event B happens and 0 everywhere else, then:\n",
    "$$E[I_B|A]= 0*P(B^c|A) + 1 * P(B|A) = P(B|A)$$"
   ]
  },
  {
   "cell_type": "markdown",
   "metadata": {},
   "source": [
    "## 1.19\n",
    "Get the variance of the event of getting two heads in a row.\n"
   ]
  },
  {
   "cell_type": "markdown",
   "metadata": {},
   "source": [
    "### Answer\n",
    "Saying that experiment A has probability p of happening (in this case getting heads) and experiment B has $q=1-p$ probability of happening, then:\n",
    "\n",
    "If you wanted to calculate the probabilities, assuming $p$ is the probability of success and $q=1-p$, then the important thing is to notice is that for the experiment to work, then you need to have failed $x-2$ times the experiment and then have two consecutive experiments in the last two cases (similar to a geometric distribution). \n",
    "\n",
    "In this case, the probability of failing up to $x-2$ can be seen as all the combinations of experiments where the sum of the exponents of $p$ and $q$ sumed is $x-2$ but the exponent in $p$ has to be smaller than that of $q$ (this is due to the fact that if experiment A happens more times than experiemtn B, then at some moment in the sequence experiment A had to have happened two times in a row). Another constriction is that experiment A cannot happen last in the x-2 first experiments (if this was true, then the experiment would end after x-1 instead of at x). \n",
    "\n",
    "We need to ensure to not count the cases where p appears two consecutive times (or more) in the sequence. we accomplish this by getting ${x-2-k \\choose k}$ (this can be proofed by deduction. Done bellow, but is not good and I believe it can be written better.)\n",
    "\n",
    "[One could also use the probability generating function](https://math.stackexchange.com/questions/2845196/expected-number-of-coin-flips-for-2-consecutive-heads-for-first-time)"
   ]
  },
  {
   "cell_type": "markdown",
   "metadata": {},
   "source": [
    "Then this means that \n",
    "\n",
    "$$P(X=x) = \\bigg( \\sum^{\\frac{x-2}{2}}_{k=0}{x-2-k \\choose k} q^{x-2-k}*p^{k}\\bigg) * p^2$$"
   ]
  },
  {
   "cell_type": "markdown",
   "metadata": {},
   "source": [
    "proof by deduction:\n",
    "\n",
    "suppose we want the combinations of cases where the events with probability $p$ and $q$ happen $n$ times in total, but with the restriction of p never appearing in consecutive cases and it cannot be in the last position, then the easiest way to think about this is to imagine two events that you are drawing from $q$ and $pq$, then we can see what happens in each case to form our case (it is not necessary, but is easier to understand if put on paper)\n",
    "\n",
    "* i=0\n",
    "In this case we have n q events happening and 0 pq, then we have n choose 0 \n",
    "$$f(n,p,q) = q*q*...*q = {n \\choose 0} q^n$$\n",
    "* i=1\n",
    "For this case we are looking for the case where we hace n-2 q events and 1 pq event happening, then in total we have n-1 events happening. This means we have n-1 choose 1.\n",
    "$$f(n,p,q) = p*q*...*q + q*p*...*q*q + ... + q*q*...*p*q = {n-1 \\choose 1}*q^{n-1}*p^1$$\n",
    "the reason why this is choose 1 in $n-1$ is because there are n-1 possible positions where 1 $p$ can be.\n",
    "* i=2\n",
    "For this case we are looking for the case where we hace n-4 q events and 2 pq event happening, then in total we have n-2 events happening. This means we have n-2 choose 2.\n",
    "$$f(n,p,q) = {n-2 \\choose 2}*q^{n-4}*(qp)^2 = {n-2 \\choose 2}*q^{n-2}*p^2$$\n",
    "\n",
    "getting the same logic as in the last case for the kth case we can say that\n",
    "* i=k\n",
    "$$f(n,p,q) = {n-k \\choose k}*q^{n-k}*p^k$$ (where $k < n/2$)\n",
    "\n",
    "(If you wanted to do a similar prove for the general case where the experiment ends after l events happening in the row, the same idea can be done as here, but with the events q, pq...q, p..pq and so on.)\n",
    "\n"
   ]
  },
  {
   "cell_type": "code",
   "execution_count": 39,
   "metadata": {},
   "outputs": [],
   "source": [
    "def calculate_combinations(n, r):\n",
    "    from math import factorial\n",
    "    return factorial(n) // factorial(r) // factorial(n-r)\n",
    "def calculate_probability(x, p=1/2):\n",
    "    from math import floor\n",
    "    cumulative = 0\n",
    "    if x>1:\n",
    "        for i in range(floor((x-2)/2)+1):\n",
    "            cumulative += calculate_combinations(x-2-i,i)*(1-p)**(x-2-i)*p**(i)\n",
    "        return cumulative*p**2\n",
    "    else:\n",
    "        return 0"
   ]
  },
  {
   "cell_type": "code",
   "execution_count": 69,
   "metadata": {},
   "outputs": [],
   "source": [
    "def simulate_experiment(sims, p=1/2):\n",
    "    import numpy as np\n",
    "    trials = []\n",
    "    for i in range(sims):\n",
    "        counter = 0\n",
    "        consecutive = 0\n",
    "        while True:\n",
    "            counter +=1\n",
    "            if(np.random.rand()<p):\n",
    "                consecutive +=1\n",
    "            else:\n",
    "                consecutive = 0\n",
    "            if consecutive == 2:\n",
    "                break\n",
    "        trials.append(counter)\n",
    "    return(np.mean(trials), np.var(trials))"
   ]
  },
  {
   "cell_type": "code",
   "execution_count": 46,
   "metadata": {},
   "outputs": [],
   "source": [
    "expectation = 0\n",
    "moment2 = 0\n",
    "for i in range(1000):\n",
    "    expectation += i*calculate_probability(i)\n",
    "    moment2 += i*i*calculate_probability(i)"
   ]
  },
  {
   "cell_type": "code",
   "execution_count": 47,
   "metadata": {},
   "outputs": [
    {
     "name": "stdout",
     "output_type": "stream",
     "text": [
      "22.00000000000002\n"
     ]
    }
   ],
   "source": [
    "print(moment2-expectation**2)"
   ]
  },
  {
   "cell_type": "code",
   "execution_count": 70,
   "metadata": {},
   "outputs": [
    {
     "data": {
      "text/plain": [
       "(6.009195, 22.114660451975002)"
      ]
     },
     "execution_count": 70,
     "metadata": {},
     "output_type": "execute_result"
    }
   ],
   "source": [
    "simulate_experiment(1000000)"
   ]
  },
  {
   "cell_type": "markdown",
   "metadata": {},
   "source": [
    "## 1.20\n",
    "A fair coin is flipped repitedly \n",
    "    \n",
    "    a) find the expected number of flips needed to get three heads in a row.\n",
    "    \n",
    "    b) find the expected number of flips to get k heads in a row."
   ]
  },
  {
   "cell_type": "markdown",
   "metadata": {},
   "source": [
    "### Answer \n",
    "\n",
    "a) Let Y be the number of flips needed and H is the event of getting heads and T the event of getting Tails. Using the same logic as presented in exercise 1.21 in the book we can think that if a tails appears, then the expectarion is \"reset\" sort to speak, this means that: \n",
    "$$E[Y] = P(T)E[Y|T] + P(HT)E[Y|HT] + P(HHT)E[Y|HHT] + P(HHH)E[Y|HHH]$$\n",
    "Since the future tosses are independent of the past tosses, then:\n",
    "$$E[Y] = 1/2*(E[Y] + 1) + 1/4*(E[Y] + 2) + 1/8*(E[Y] + 3) + 1/8*(3)$$\n",
    "Saying $x = E[Y]$\n",
    "$$x - 7/8x = 1 + 3/4 => x = (8)*(14/8) = 14$$"
   ]
  },
  {
   "cell_type": "markdown",
   "metadata": {},
   "source": [
    "b) Using the same logic as before we can first write the first equation as:\n",
    "$$E[Y] = P(T)E[Y|T] + P(HT)E[Y|HT] + ... + P(H...HT)E[Y|H...HT] + P(H...H)E[Y|H...H]$$\n",
    "Then:\n",
    "$$E[Y] = 1/2*(E[Y] + 1) + 1/4*(E[Y] + 2) + ... + 1/2^k*(E[Y] + k) + 1/2^k*(k)$$\n",
    "$$E[Y] = \\sum_{i=1}^{k}1/2^k *(E[Y]) + \\sum_{i=1}^{k}k/2^k + k/2^k $$\n",
    "where:\n",
    "$$\\sum_{i=1}^{k}1/2^k = 1/2*\\frac{1-(1/2)^k}{1-1/2}=1-1/2^k= \\frac{2^k-1}{2^k} $$\n",
    "and\n",
    "$$\\sum_{i=1}^{k}k/2^k = 1/2 + 2*(1/2)^2 + 3*(1/2)^3 + ... + k*(1/2)^k = S$$\n",
    "$=>$\n",
    "$$(1-1/2)S= (1/2)^2 + 2*(1/2)^3 + 3*(1/2)^4 + ... + k*(1/2)^{k+1}$$\n",
    "$=>$\n",
    "$$(1-1/2)S= (1/2) + (1/2)^2 + (1/2)^3 + (1/2)^4 + ... + (1/2)^{k} - k*(1/2)^{k+1}$$\n",
    "$=>$\n",
    "$$(1-1/2)S= (1/2) \\frac{1-(1/2)^k}{1-(1/2)} - k*(1/2)^{k+1}$$\n",
    "$=> $ (just because in this case is 1/2 you can simplify this expression)\n",
    "$$S=  \\frac{1-(1/2)^k - k*(1/2)^{k+1}}{(1/2)} $$\n",
    "This means that:\n",
    "$$E[Y] = E[Y] * \\frac{2^k-1}{2^k} + \\frac{1-(1/2)^k - k*(1/2)^{k+1}}{(1/2)} + k/2^k $$\n",
    "$=>$\n",
    "$$E[Y] =  2^k\\bigg(\\frac{1-(1/2)^k - k*(1/2)^{k+1}}{(1/2)} + k/2^k\\bigg) $$"
   ]
  },
  {
   "cell_type": "markdown",
   "metadata": {},
   "source": [
    "## 1.21\n",
    "Let T be a nonnegative, continuous random variable. Show:\n",
    "$$E[T]=\\int_0^\\infty P(T>t)dt$$"
   ]
  },
  {
   "cell_type": "markdown",
   "metadata": {},
   "source": [
    "### Answer\n",
    "For this case using integration by parts, we have:\n",
    "\n",
    "| type | u | v |\n",
    "| --- | :-: | :-: |\n",
    "| derivative | -f(t)dt | 1dt |\n",
    "| non-der | P(T>t)=(1-F(T)) | t |\n",
    "\n",
    "Then \n",
    "$$\\int_0^\\infty P(T>t)dt = \\bigg[ t*(1-F(t)) \\bigg|_0^\\infty + \\int_0^\\infty tf(t)dt =  1*(1-1)+0(1-0) + \\int_0^\\infty tf(t)dt = \\int_0^\\infty tf(t)dt = E[Y]$$\n",
    "\n",
    "Therefore:\n",
    "$$E[T]=\\int_0^\\infty P(T>t)dt$$"
   ]
  },
  {
   "cell_type": "markdown",
   "metadata": {},
   "source": [
    "## 1.22\n",
    "Find $E[X|Y]$ when $(X,Y)$ is uniformly distributed on the following  regions.\n",
    "\n",
    "    a) The rectangle [a,b] x [c,d]\n",
    "    b) The triangle with vertices (0,0)(0,1)(1,1)\n",
    "    c) the disc of radius 1 centered at the origin)"
   ]
  },
  {
   "cell_type": "markdown",
   "metadata": {},
   "source": [
    "### Answer\n",
    "a) Imagine that you have the rectangle with the mentions in [a,b] x [c,d] with coordinates for $A:(x_1,y_2) B:(x_2,y_2) C:(x_1,y_1) D:(x_2,y_1)$, then imagine choosing a random number in $X$, then you end up with a region like in the next image: ![square](Figures\\Chapter01\\SquareEx22.png)\n",
    "\n",
    "This means that you are going to get Y this will be chosen at random in the segment $\\overline{EF}$ This means that $X|Y$ is a uniform random variable from E to F, where their $y$ min and max are $y_1,y_2$. Then:\n",
    "\n",
    "$$E[X|Y]= \\frac{y_1+y_2}{2}$$\n",
    "\n"
   ]
  },
  {
   "cell_type": "markdown",
   "metadata": {},
   "source": [
    "b)\n",
    "In this case imagine you have the triangle like the one mentioned, then if a random number between 0,1 is chosen for x, and we know it, then the region for the distribution of $Y$ is given by the line segment $\\overline{KJ}$ in the next figure ![triangle](Figures\\Chapter01\\TriangleEx22.png)\n",
    "\n",
    "As it can be seen if the x value was different, then the line segment $\\overline{KJ}$ would change based on the function $y=x$. This means that $Y|X=x$ is a uniform distribution $(0,x)$, then:\n",
    "\n",
    "$$E[Y|X]=\\frac{x}{2}$$"
   ]
  },
  {
   "cell_type": "markdown",
   "metadata": {},
   "source": [
    "b)\n",
    "In this case imagine you have the circle like the one mentioned, then if a random number between -1,1 is chosen for x, and we know it, then the region for the distribution of $Y$ is given by the line segment $\\overline{LM}$ in the next figure ![triangle](Figures\\Chapter01\\CircleEx22.png)\n",
    "\n",
    "As it can be seen if the x value was different, then the line segment $\\overline{LM}$ would change based on the functions $y=-\\sqrt{x-1}$ and $y=\\sqrt{x-1}$. This means that $Y|X=x$ is a uniform distribution $(-\\sqrt{x-1},\\sqrt{x-1})$, then:\n",
    "\n",
    "$$E[Y|X]=\\frac{\\sqrt{x-1}-\\sqrt{x-1}}{2}=0$$\n",
    "\n",
    "if you had any circle with any radius in a different center, then the expected value would be the $y$ value of the center of the circle."
   ]
  },
  {
   "cell_type": "markdown",
   "metadata": {},
   "source": [
    "## 1.23\n",
    "Let $X_1,...,X_n$ be i.i.d sequence of random variables, with comon means $\\mu$. Let $S_n=X_1+...+X_n$ for $n\\geq1$.\n",
    "\n",
    "a) find $E[S_m|S_n]$ for $m\\leq n$\n",
    "\n",
    "a) find $E[S_m|S_n]$ for $m > n$"
   ]
  },
  {
   "cell_type": "markdown",
   "metadata": {},
   "source": [
    "### Answer\n",
    "a) \n",
    "To get this case first let's see analize the sum.\n",
    "\n",
    "$$E[S_n|S_n]= E[X_1+X_2+...+X_n|S_n] = E[X_1|S_n]+...+E[X_n|S_n]$$\n",
    "\n",
    "but since $X_1,...,X_n$ are independent, then \n",
    "$$S_n = nE[X_1|S_n] => E[X_1|S_n]=\\frac{S_n}{n}$$\n",
    "\n",
    "Then \n",
    "$$E[S_m|S_n]= E[X_1+X_2+...+X_m|S_n] = E[X_1|S_n]+...+E[X_m|S_n]$$\n",
    "$=>$\n",
    "$$E[S_m|S_n]= m*E[X_1|S_n]=m\\frac{S_n}{n}$$"
   ]
  },
  {
   "cell_type": "markdown",
   "metadata": {},
   "source": [
    "b) \n",
    "Looking again at the sum, then: \n",
    "$$E[S_m|S_n]= E[X_1+X_2+...+X_n+...+X_m|S_n] = S_n + E[X_{n+1}|S_n]+...+E[X_m|S_n]$$\n",
    "$=>$ since $X_{n+1},...,X_m$ are independent of $S_n$ \n",
    "$$E[S_m|S_n] = S_n + E[X_{n+1}]+...+E[X_m]= S_n + (m-n)\\mu$$"
   ]
  },
  {
   "cell_type": "markdown",
   "metadata": {},
   "source": [
    "## 1.24\n",
    "Prove the law of total expectation $E[Y]=E[E[Y|X]]$ for the continous case.\n"
   ]
  },
  {
   "cell_type": "markdown",
   "metadata": {},
   "source": [
    "### Answer\n",
    "\n",
    "$$E[Y]=\\int_{-\\infty}^\\infty yf_Y(y)dy$$\n",
    "$=>$ then by the law of total probability\n",
    "$$E[Y]=\\int_{-\\infty}^\\infty y \\int_{-\\infty}^\\infty f_{Y|x}(y|x) f_X(x) dxdy$$\n",
    "$=>$ Then doing a change order of integration is done (assuming the integration area is not dependant between x and y)\n",
    "$$E[Y]=\\int_{-\\infty}^\\infty \\bigg(\\int_{-\\infty}^\\infty y f_{Y|x}(y|x)\\bigg) f_X(x) dydx$$"
   ]
  },
  {
   "cell_type": "markdown",
   "metadata": {},
   "source": [
    "## 1.25\n",
    "suppose that you have $X$ and $Y$ independent exponential random variables wit respective parameters 1 and 2. Find $P(X/Y<3)$ by conditioning."
   ]
  },
  {
   "cell_type": "markdown",
   "metadata": {},
   "source": [
    "### Answer \n",
    "using the conditioning, then:\n",
    "$$P(X/Y<3)=P(X<3Y)=\\int_0^\\infty P(X<3y|Y)f_Y(y)dy = \\int_0^\\infty P(X<3y)f_Y(y)dy$$\n",
    "$=>$\n",
    "$$P(X/Y<3)=\\int_0^\\infty (1-e^{-3y})*2e^{-2y}dy=2\\int_0^\\infty (e^{-2y}-e^{-5y})dy = 1-\\frac{2}{5}=3/5$$"
   ]
  },
  {
   "cell_type": "markdown",
   "metadata": {},
   "source": [
    "## 1.26\n",
    "The density of $X$ is $f(x)=xe^{-x}$, for $x>0$. Given $X=x$, $Y$ is uniformly distributed on $(0,x)$. Find the probability $P(Y<2)$."
   ]
  },
  {
   "cell_type": "markdown",
   "metadata": {},
   "source": [
    "### Answer\n",
    "$$P(Y<2)=\\int_2^\\infty P(Y<2|X=x)f_X(x)dx=\\int_2^\\infty \\frac{2}{x}xe^{-x}dx=2\\int_2^\\infty e^{-x}dx = 2e^{-2}=0.27$$"
   ]
  },
  {
   "cell_type": "markdown",
   "metadata": {},
   "source": [
    "## 1.27\n",
    "A restaurant Receives $N$ customers per day, where $N$ is a random variable with mean 200 and sd 40. The amount spent by each customer is normally distributed with mean $\\$15 $ and sd $\\$3$. The amounts that customers spend are independent of each other and idependent of other $N$. Find the mean and standard deviation of the total amount spent at the restaurant per day."
   ]
  },
  {
   "cell_type": "markdown",
   "metadata": {},
   "source": [
    "### Answer\n",
    "What we have here is a random sum of random variables, so let's denote $S_N = X_1 + X_2 + ... + X_N$ there $X\\sim \\mathcal{N}(15,3)$ and N has unknown distribution with mean 200 and standard deviation 40. Then by the law of total expectation we have:\n",
    "$$E[S_N]=E[E[X_1+...+X_n|N=n]]$$\n",
    "Where \n",
    "$$E[X_1+...+X_n|N=n] = nE[X_i] = 15*n$$\n",
    "Then \n",
    "$$E[S_N]= E[15*N] = 15 E[N] = 3000$$\n",
    "\n",
    "\n",
    "Then applying the law of total variance:\n",
    "$$Var(S_N) = E[Var(S_n|N=n)] + Var(E[S_n|N=n]) = E[N*Var(X_i)] + Var(15*N)= 9*E[N]+225*Var(N) = 1800+ 360000 = 361800$$\n",
    "Then the standard deviation is $601.498$"
   ]
  },
  {
   "cell_type": "markdown",
   "metadata": {},
   "source": [
    "## 1.28\n",
    "On any day, the number of accidents on the highways has a poisson distribution with parameter $\\Lambda$ the parameter $\\Lambda$ varies from day to day and is itself a random variable. Find the mean and variance of the number of accidents per day when $\\Lambda$ is uniform distributed on $(0,3)$."
   ]
  },
  {
   "cell_type": "markdown",
   "metadata": {},
   "source": [
    "### Answer\n",
    "Also first applying the law of total expectation and having $X\\sim Pois(\\Lambda)$, then:\n",
    "\n",
    "$$E[X]=E[E[X|\\Lambda=\\lambda]]=E[\\Lambda]=3/2$$\n",
    "\n",
    "Then applying the law of total Variance\n",
    "\n",
    "$$Var(X)=E[Var(X|\\Lambda=\\lambda)]+Var(E[X|\\Lambda=\\lambda])=E[\\Lambda]+Var(\\Lambda)=3/2+9/12=9/4$$\n"
   ]
  },
  {
   "cell_type": "markdown",
   "metadata": {},
   "source": [
    "## 1.29\n",
    "If X and Y are independent, does $Var(Y|X)=Var(X)$?"
   ]
  },
  {
   "cell_type": "markdown",
   "metadata": {},
   "source": [
    "### Answer \n",
    "Yes. (No explanation evil laugh goes out of the room)...\n",
    "\n",
    "The reason for this is because we just need to follow the math.\n",
    "$$Var(Y|X)=E[Y^2|X] + E[Y|X]= \\sum_{Y\\in\\Omega}Y^2P(Y|X)+\\sum_{Y\\in\\Omega}YP(Y|X)$$\n",
    "\n",
    "But is known that if $X$ and $Y$ are independent then $P(Y|X)=P(Y)$, thi means that \n",
    "$$Var(Y|X)= \\sum_{Y\\in\\Omega}Y^2P(Y|X)+\\sum_{Y\\in\\Omega}YP(Y|X) = \\sum_{Y\\in\\Omega}Y^2P(Y)+\\sum_{Y\\in\\Omega}YP(Y)=Var(Y)$$"
   ]
  },
  {
   "cell_type": "markdown",
   "metadata": {},
   "source": [
    "## 1.30\n",
    "Assume that $Y=g(X)$ is a function of $X$. Find simple expressions for \n",
    "\n",
    "a) $E[Y|X]$ \n",
    "\n",
    "b) $Var(Y|X)$\n"
   ]
  },
  {
   "cell_type": "markdown",
   "metadata": {},
   "source": [
    "### Answer \n",
    "Since $Y=g(X)$, then:\n",
    "a) \n",
    "$$E[Y|X]=E[g(x)|X=x]=g(x)$$\n",
    "b) \n",
    "$$Var(Y|X)=Var(g(x)|X=x)=0$$"
   ]
  },
  {
   "cell_type": "markdown",
   "metadata": {},
   "source": [
    "## 1.31\n",
    "Consider a sequence of i.i.d. Bernoulli trials with success parameter p. Let X be the number of trials needed until the first occurs. Then X has a geometric distribution with parameter $p$. Find the variance of $X$ by conditioning to the first trial"
   ]
  },
  {
   "cell_type": "markdown",
   "metadata": {},
   "source": [
    "### Answer.\n",
    "\n",
    "First let's check for the expectation, then the result is:\n",
    "$$E[X|B]=(E[Y]+1)*(1-p)+p=(1/p+1)(1-p)+p=\\frac{1+p}{p}(1-p)+p= \\frac{1-p^2}{p}+p=\\frac{1-p^2+p^2}{p}=\\frac{1}{p}$$\n",
    "\n",
    "Then, for the second moment, remember that the first trial is the only one dependent on the bernoulli trial, then: \n",
    "$$E[X^2|B]= 1(p) + (1-p)\\sum_{k=2}^\\infty k^2 P(Y=k-1)=\\frac{2-p}{p^2}$$\n",
    "\n",
    "With this, then\n",
    "$$Var(X|B)=\\frac{2-p}{p^2}-\\bigg(\\frac{1}{p}\\bigg)^2=\\frac{1-p}{p^2}$$\n"
   ]
  },
  {
   "cell_type": "markdown",
   "metadata": {},
   "source": [
    "## 1.32\n",
    "Simulate flipping three fair coins and counting the number of heads $X$.\n",
    "a) Use the simulation to estimate $P(X=1)$ and $E[X]$"
   ]
  },
  {
   "cell_type": "markdown",
   "metadata": {},
   "source": [
    "### Answer"
   ]
  },
  {
   "cell_type": "code",
   "execution_count": 21,
   "metadata": {},
   "outputs": [],
   "source": [
    "class ThreeCoinExp():\n",
    "    '''\n",
    "    This class is made to simulate the experiment in the problem it receives as input the probability of \n",
    "    getting heads which will be used for the simulations.\n",
    "    \n",
    "    It has two functions P_x which receives the x which will be used to approximate the probability using \n",
    "    the simulation\n",
    "    Is important to remember that the underlying random variable is a binomial distribution with p = self.proba.\n",
    "    '''\n",
    "    def __init__(self, proba= 1/2):\n",
    "        self.proba=proba\n",
    "        # I want this everywhere, but needs to be reset for new simulations. \n",
    "        self.results = []\n",
    "    def P_x(self, x, sim = 1000):\n",
    "        import numpy as np\n",
    "        counter = 0\n",
    "        self.results = []\n",
    "        # Might be better to have the simulation as an independent function (like in comming exercises)\n",
    "        for i in range(sim):\n",
    "            coins = np.random.rand(3)\n",
    "            self.results.append(sum(coins<self.proba))\n",
    "            if(self.results[-1]==x):\n",
    "                counter+=1\n",
    "        return counter/sim\n",
    "    def E_x(self, sim=1000):\n",
    "        if(len(self.results)==0):\n",
    "            self.P_x(0, sim)\n",
    "        return sum(self.results)/len(self.results)"
   ]
  },
  {
   "cell_type": "code",
   "execution_count": 33,
   "metadata": {},
   "outputs": [
    {
     "data": {
      "text/plain": [
       "(0.1365, 2.2523)"
      ]
     },
     "execution_count": 33,
     "metadata": {},
     "output_type": "execute_result"
    }
   ],
   "source": [
    "coinExp = ThreeCoinExp(3/4)\n",
    "coinExp.P_x(1,10000), coinExp.E_x()"
   ]
  },
  {
   "cell_type": "markdown",
   "metadata": {},
   "source": [
    "## 1.33\n",
    "Cards are drawn from a standard deck, with replacement, until an ace appears. Simulate the mean and variance of the number of cards required. "
   ]
  },
  {
   "cell_type": "markdown",
   "metadata": {},
   "source": [
    "### Answer"
   ]
  },
  {
   "cell_type": "code",
   "execution_count": 73,
   "metadata": {},
   "outputs": [],
   "source": [
    "class CardExpWithReplacement():\n",
    "    '''\n",
    "    Here is the class for the experiment mentioned above, still is important to mention the random variable\n",
    "    described has a geometric distribution with p=1/13 since there are replacements.\n",
    "    It takes as input the probability that you wanted to simulate for the geometric random variable.\n",
    "    '''\n",
    "    def __init__(self, proba = 1/13):\n",
    "        self.proba = 1/13\n",
    "        self.results=[]\n",
    "    def simulation(self, sim = 1000):\n",
    "        import numpy as np\n",
    "        self.results=[]\n",
    "        for i in range(sim):\n",
    "            counter = 0\n",
    "            while True:\n",
    "                counter +=1\n",
    "                if np.random.rand()<self.proba:\n",
    "                    self.results.append(counter)\n",
    "                    break\n",
    "    def E_x(self, sim=1000):\n",
    "        if len(self.results) == 0:\n",
    "            self.simulation(sim)\n",
    "        return sum(self.results)/len(self.results)\n",
    "    \n",
    "    def var_x(self, sim=1000):\n",
    "        if len(self.results) == 0:\n",
    "            self.simulation(sim)\n",
    "        mu = self.E_x()\n",
    "        return sum([x**2 for x in (np.array(self.results)-mu)])/len(self.results)"
   ]
  },
  {
   "cell_type": "code",
   "execution_count": 74,
   "metadata": {},
   "outputs": [
    {
     "data": {
      "text/plain": [
       "(13.2034, 167.1302284399844)"
      ]
     },
     "execution_count": 74,
     "metadata": {},
     "output_type": "execute_result"
    }
   ],
   "source": [
    "cardEx = CardExpWithReplacement()\n",
    "cardEx.simulation(10000)\n",
    "cardEx.E_x(), cardEx.var_x()"
   ]
  },
  {
   "cell_type": "markdown",
   "metadata": {},
   "source": [
    "## 1.34\n",
    "The time until the bus arrives has an exponential distribution with mean 30 minutes. simulate using a package and compare with the real probability"
   ]
  },
  {
   "cell_type": "markdown",
   "metadata": {},
   "source": [
    "### Answer"
   ]
  },
  {
   "cell_type": "code",
   "execution_count": 86,
   "metadata": {},
   "outputs": [
    {
     "data": {
      "text/plain": [
       "(0.484, 0.486582880967408)"
      ]
     },
     "execution_count": 86,
     "metadata": {},
     "output_type": "execute_result"
    }
   ],
   "source": [
    "from scipy.stats import expon\n",
    "simulations = 1000\n",
    "sum(np.random.exponential(30, simulations)<20)/simulations, expon.cdf(20, scale=30)"
   ]
  },
  {
   "cell_type": "markdown",
   "metadata": {},
   "source": [
    "## 1.35\n",
    "See gamblersruin.R A gambler starts with $\\$60$ initial stake.\n",
    "Simulate the probability of the gambler winning $\\$100$ before going broke when he has the probability of winning a) $p=0.5$ what about when b) $p=0.51$"
   ]
  },
  {
   "cell_type": "markdown",
   "metadata": {},
   "source": [
    "### Answer"
   ]
  },
  {
   "cell_type": "code",
   "execution_count": 128,
   "metadata": {},
   "outputs": [],
   "source": [
    "class GamblingWalk():\n",
    "    def __init__(self, initial_money=50, prob=1/2, min_state=0, max_state=100, outcomes = [-1,1]):\n",
    "        self.prob = prob\n",
    "        self.init_money = initial_money\n",
    "        self.walk = []\n",
    "        self.min_state = min_state\n",
    "        self.max_state = max_state\n",
    "        self.outcomes = outcomes\n",
    "    def P_w(self, sim=100):\n",
    "        results = []\n",
    "        for i in range(sim):\n",
    "            res = self.randomWalk()\n",
    "            results.append(res[1])\n",
    "        return sum(results)/len(results)\n",
    "    def randomWalk(self):\n",
    "        money = self.init_money\n",
    "        self.walk = [int(money)]\n",
    "        win = False\n",
    "        while True:\n",
    "            money += np.random.choice(self.outcomes,1,p=[1-self.prob,self.prob])\n",
    "            self.walk.append(int(money))\n",
    "            if (money <= self.min_state) or (money >= self.max_state):\n",
    "                win=(money >= self.max_state)\n",
    "                break\n",
    "        return len(self.walk), win\n",
    "    def plotWalk(self):\n",
    "        import matplotlib.pyplot as plt\n",
    "        if(len(self.walk)==0):\n",
    "            self.randomWalk()\n",
    "        plt.plot(range(len(self.walk)), self.walk)\n",
    "        plt.show()"
   ]
  },
  {
   "cell_type": "code",
   "execution_count": 129,
   "metadata": {},
   "outputs": [
    {
     "data": {
      "text/plain": [
       "array([0.61])"
      ]
     },
     "execution_count": 129,
     "metadata": {},
     "output_type": "execute_result"
    }
   ],
   "source": [
    "wlk = GamblingWalk(60)\n",
    "wlk.P_w()"
   ]
  },
  {
   "cell_type": "code",
   "execution_count": 130,
   "metadata": {},
   "outputs": [
    {
     "data": {
      "text/plain": [
       "array([0.95])"
      ]
     },
     "execution_count": 130,
     "metadata": {},
     "output_type": "execute_result"
    }
   ],
   "source": [
    "wlk = GamblingWalk(60, 0.51)\n",
    "wlk.P_w()"
   ]
  },
  {
   "cell_type": "code",
   "execution_count": 134,
   "metadata": {},
   "outputs": [
    {
     "data": {
      "image/png": "[encoded data removed]",
      "text/plain": [
       "<Figure size 432x288 with 1 Axes>"
      ]
     },
     "metadata": {
      "needs_background": "light"
     },
     "output_type": "display_data"
    }
   ],
   "source": [
    "wlk.plotWalk()"
   ]
  },
  {
   "cell_type": "markdown",
   "metadata": {},
   "source": [
    "## 1.36\n",
    "Recreate tge Reed-Frost model. Observe the effect on the course of the desease by changing the initial values for the number of people suceptible and infected. How does increasing the number of infected people affect the duration of the disease?"
   ]
  },
  {
   "cell_type": "markdown",
   "metadata": {},
   "source": [
    "### Answer"
   ]
  },
  {
   "cell_type": "code",
   "execution_count": 160,
   "metadata": {},
   "outputs": [],
   "source": [
    "class ReedFrost():\n",
    "    def __init__(self, initial_healthy=400, initial_infected=3, probability_inf=0.004):\n",
    "        self.prob = probability_inf\n",
    "        self.init_healthy = initial_healthy\n",
    "        self.init_infected = initial_infected\n",
    "        self.healthy = []\n",
    "        self.infected = []\n",
    "        \n",
    "    def simulation(self, sim=1000, steps=30):\n",
    "        time = []\n",
    "        for i in range(sim):\n",
    "            counter = 0\n",
    "            sus = self.init_healthy\n",
    "            inf = self.init_infected\n",
    "            self.healthy = [sus]\n",
    "            self.infected = [inf]\n",
    "            while sus > 0 and counter<steps:\n",
    "                counter+=1\n",
    "                inf = np.random.binomial(sus,1-(1-self.prob)**inf)\n",
    "                sus -= inf\n",
    "                self.healthy.append(sus)\n",
    "                self.infected.append(inf)\n",
    "            time.append(len(self.healthy))\n",
    "        return np.mean(time)\n",
    "    \n",
    "    def plot_last(self, sim=1000):\n",
    "        import matplotlib.pyplot as plt\n",
    "        if(len(self.infected)==0):\n",
    "            self.simulation(sim)\n",
    "        plt.plot(range(len(self.infected)), self.infected)\n",
    "        plt.show()"
   ]
  },
  {
   "cell_type": "code",
   "execution_count": 161,
   "metadata": {},
   "outputs": [
    {
     "data": {
      "image/png": "[encoded data removed]",
      "text/plain": [
       "<Figure size 432x288 with 1 Axes>"
      ]
     },
     "metadata": {
      "needs_background": "light"
     },
     "output_type": "display_data"
    }
   ],
   "source": [
    "reed = ReedFrost()\n",
    "reed.simulation(1, steps = 25)\n",
    "reed.plot_last()"
   ]
  },
  {
   "cell_type": "code",
   "execution_count": 190,
   "metadata": {},
   "outputs": [
    {
     "data": {
      "image/png": "[encoded data removed]",
      "text/plain": [
       "<Figure size 432x288 with 1 Axes>"
      ]
     },
     "metadata": {
      "needs_background": "light"
     },
     "output_type": "display_data"
    }
   ],
   "source": [
    "reed = ReedFrost(initial_infected=20)\n",
    "reed.simulation(1, steps = 60)\n",
    "reed.plot_last()"
   ]
  },
  {
   "cell_type": "markdown",
   "metadata": {},
   "source": [
    "## 1.37\n",
    "Simulate the results of exercise 1.28 Estimate the mean and variance of the number of accidents per day."
   ]
  },
  {
   "cell_type": "markdown",
   "metadata": {},
   "source": [
    "### Answer\n",
    "for Doing this remember exercise 1.28 had a poisson distribution with parameter $\\Lambda$, which is a random variable uniformly distributed $(0,3)$"
   ]
  },
  {
   "cell_type": "code",
   "execution_count": 181,
   "metadata": {},
   "outputs": [],
   "source": [
    "class AccidentSim():\n",
    "    def __init__(self, min_uniform=0, max_uniform=3):\n",
    "        self.min = min_uniform\n",
    "        self.max = max_uniform\n",
    "        self.results = []\n",
    "    def simulation(self, sim=1000):\n",
    "        self.results = []\n",
    "        for i in range(sim):\n",
    "            lam = np.random.uniform(self.min, self.max,1)\n",
    "            self.results.append(np.random.poisson(lam, 1))\n",
    "        return np.mean(self.results), np.var(self.results)\n",
    "    def plot_last(self, sim=1000):\n",
    "        import matplotlib.pyplot as plt\n",
    "        if(len(self.results)==0):\n",
    "            self.simulation(sim)\n",
    "        plt.plot(range(len(self.results)), self.results)\n",
    "        plt.show()"
   ]
  },
  {
   "cell_type": "code",
   "execution_count": 184,
   "metadata": {},
   "outputs": [
    {
     "name": "stdout",
     "output_type": "stream",
     "text": [
      "(1.5302, 2.27748796)\n"
     ]
    }
   ],
   "source": [
    "act = AccidentSim()\n",
    "print(act.simulation(10000))"
   ]
  }
 ],
 "metadata": {
  "kernelspec": {
   "display_name": "R",
   "language": "R",
   "name": "ir"
  },
  "language_info": {
   "codemirror_mode": "r",
   "file_extension": ".r",
   "mimetype": "text/x-r-source",
   "name": "R",
   "pygments_lexer": "r",
   "version": "3.5.0"
  }
 },
 "nbformat": 4,
 "nbformat_minor": 2
}

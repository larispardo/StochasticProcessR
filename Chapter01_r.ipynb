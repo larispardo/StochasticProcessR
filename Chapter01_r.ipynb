{
 "cells": [
  {
   "cell_type": "markdown",
   "metadata": {},
   "source": [
    "# Chapter 1 Exercises\n",
    "In this notebook we will go through the exercises of chapter 1 of Introduction to Stochastic Processes with R by Robert Dobrow."
   ]
  },
  {
   "cell_type": "markdown",
   "metadata": {},
   "source": [
    "### 1.1\n",
    "For the following scenarios identify the stochastic process {$X_t, t \\in I$}, describing (i) $X_t$ in context (ii) state space, and (iii) index Set. State whether the state space and index are discrete or continuous.\n",
    "\n",
    "    b) At the end of each year, a 4-year college student either advances in grade repeats the grade or drops out\n",
    "    Answer:\n",
    "let $X_t$ denote the state of the student at the end of the year $t$. This is a discrete space with $S=$ {Advances, Repeats, Drop out} for $I=${1,2,...}\n",
    "    \n",
    "    c) Seismologists record daily earthquake magnitudes in Chile. the largest recorded earthquake in history was the Valdivia, Chile earthquake on May 22 1960, which had a magnitude of 9.5 on Richter scale.\n",
    "Answer:\n",
    "ley $X_t$ the magnitude of earthquake t. and with continuous Space $S =$ (0,9.5] and $I=$ {0,1,2,...}\n",
    "    \n",
    "    d)Data are kept on circumferences of trees in an arboretum. The arboretum covers a two square-mile area.\n",
    "    Answer:\n",
    "ley $X_t$ the circumference of tree t. and with continuous Space $S =$ (0,max(circum)] and $I=$ {0,1,2,...}\n",
    "    \n",
    "    e) Starting Monday morning at 9 a.m., as students arrive to class, the teacher records the student arrival times. The class has 30 students and lasts for 60 minutes.\n",
    "    Answer:\n",
    "ley $X_t$ arrival time of student t. and with continuous Space $S =$ $[0,60]$ and $I=$ {0,1,2,...,30}\n",
    "    \n",
    "    f) A card player shuffles a standard deck of cards by the following method: the top card of the deck is placed somewhere in the deck at random. The player does this 100 times to mix up the deck.\n",
    "    Answer:\n",
    "ley $X_t$ the order of the cards at shuffle t. and with Discrete Space $S =$ 52! and $I=$ {0,1,2,...,100}\n",
    "    "
   ]
  },
  {
   "cell_type": "markdown",
   "metadata": {},
   "source": [
    "### 1.2\n",
    "A regional Insurance company insures homeowners against flood damage. Half of their policyholders are in florida 30% in Louisiana, and 20% in Texas. Company Actuaries Inc. give the estimate table 1.1 for the probability that a policy holder will file a claim for flood damage over the next year. \n",
    "\n",
    "    a) find the probability that a random policyholder will file a claim for flood damage next year.\n",
    "    b) a claim was filed. Find the probability that the policyholder is from texas \n",
    "|  | Table 1.1 Probability of claim for flood damage | |\n",
    "| --- | :-: | --- |\n",
    "| Florida | Louisiana | Texas |\n",
    "| 0.03 | 0.015 | 0.02 |"
   ]
  },
  {
   "cell_type": "markdown",
   "metadata": {},
   "source": [
    "#### Answer \n",
    "using the law of total probability, then we need to calculate \n",
    "$$P(claim)=\\sum_{state} P(claim|State)*P(State)$$"
   ]
  },
  {
   "cell_type": "code",
   "execution_count": 5,
   "metadata": {},
   "outputs": [
    {
     "data": {
      "text/html": [
       "0.0235"
      ],
      "text/latex": [
       "0.0235"
      ],
      "text/markdown": [
       "0.0235"
      ],
      "text/plain": [
       "[1] 0.0235"
      ]
     },
     "metadata": {},
     "output_type": "display_data"
    }
   ],
   "source": [
    "prob_a = 0.5*0.03+0.3*0.015+0.2*0.02\n",
    "prob_a"
   ]
  },
  {
   "cell_type": "markdown",
   "metadata": {},
   "source": [
    "In the second case we want to find the probability that it comes from texas given that a claim happened, then we want:\n",
    "$$P(Texas|claim)=\\frac{P(claim \\cap Texas)}{P(claim)}=\\frac{P(claim|Texas)P(Texas)}{P(claim)}$$"
   ]
  },
  {
   "cell_type": "code",
   "execution_count": 6,
   "metadata": {},
   "outputs": [
    {
     "data": {
      "text/html": [
       "0.170212765957447"
      ],
      "text/latex": [
       "0.170212765957447"
      ],
      "text/markdown": [
       "0.170212765957447"
      ],
      "text/plain": [
       "[1] 0.1702128"
      ]
     },
     "metadata": {},
     "output_type": "display_data"
    }
   ],
   "source": [
    "0.2*0.02/prob_a"
   ]
  },
  {
   "cell_type": "markdown",
   "metadata": {},
   "source": [
    "### 1.3\n",
    "let $B_1,...,B_k$ be a partition of the sample space. For events A and C, prove the law of total probability for conditional probability.\n",
    "$$P(A|C)=\\sum_{i=1}^{k}P(A|B_i \\cap C)P(B_i|C)$$"
   ]
  },
  {
   "cell_type": "markdown",
   "metadata": {},
   "source": [
    "#### Answer\n",
    "\n",
    "To answer this let's expand the right part of the equalityt\n",
    "\\begin{align}\n",
    "\\sum_{i=1}^{k}P(A|B_i \\cap C)P(B_i|C) & = \\sum_{i=1}^{k}\\frac{P(A \\cap B_i \\cap C)}{P(B_i \\cap C)} \\frac{P(B_i \\cap C)}{P(C)} \\\\\n",
    " & = \\sum_{i=1}^{k}\\frac{P(A \\cap B_i \\cap C)}{P(C)} \\\\\n",
    " & = \\frac{1}{P(C)}\\sum_{i=1}^{k}P(A \\cap B_i \\cap C) \\\\\n",
    " & = \\frac{P(A \\cap C)}{P(C)} = P(A|C)\n",
    "\\end{align}"
   ]
  },
  {
   "cell_type": "markdown",
   "metadata": {},
   "source": [
    "### 1.4 \n",
    "See exercise 1.2 Among all policyholders who live within five miles of the Atlantic Ocean, 75% live in florida, 20% in Louisiana and 5% live in Taxas. For thosewho live close to the ocean the probabilities of filing a claim increase as given in table 1.2.\n",
    "\n",
    "Assume that the policyholder lives within five miles of the Atlantic Coast. Use the law of total probability fot conditional probability in Exercise 1.3 to find the chance that they will file a claim for flood damage next year.\n",
    "\n",
    "|  | Table 1.2 Probability of claim for those within 5 miles | |\n",
    "| --- | :-: | --- |\n",
    "| Florida | Louisiana | Texas |\n",
    "| 0.1 | 0.06 | 0.06 |"
   ]
  },
  {
   "cell_type": "markdown",
   "metadata": {},
   "source": [
    "#### Answer\n",
    "What we are looking for is:\n",
    "$$P(claim|5m)=\\sum_{state}P(claim | State \\cap 5m)*P(State | 5m)$$\n",
    "\n",
    "Note here that the partition is the state, that is why we are not looking to find the same result as before."
   ]
  },
  {
   "cell_type": "code",
   "execution_count": 7,
   "metadata": {},
   "outputs": [
    {
     "data": {
      "text/html": [
       "0.09"
      ],
      "text/latex": [
       "0.09"
      ],
      "text/markdown": [
       "0.09"
      ],
      "text/plain": [
       "[1] 0.09"
      ]
     },
     "metadata": {},
     "output_type": "display_data"
    }
   ],
   "source": [
    "prob_claimG5m = 0.1*0.75+0.06*0.2+0.06*0.05\n",
    "prob_claimG5m"
   ]
  },
  {
   "cell_type": "markdown",
   "metadata": {},
   "source": [
    "### 1.5\n",
    "Two fais-sided dice are rolled let $X_1,X_2$ be the outcomes of the first and second die respectively.\n",
    "    \n",
    "- a) find the conditional distribution of $X_2$ given that $X_1+X_2=7$\n",
    "- b) find the conditional distribution of $X_2$ given that $X_1+X_2=8$"
   ]
  },
  {
   "cell_type": "markdown",
   "metadata": {},
   "source": [
    "#### Answer\n",
    "we want $P(X_2|X_1+X_2=7)$ we can see that the values of $X_2$ are uniformly distributed {$1,2,3,4,5,6$} the reason for this is that if $X_1+X_2=7$, then if $X_1$ was 1, then $X_2$ needs to be 6, and so on with all the numbers that $X_1$ and $X_2$ can be.\n",
    "\n",
    "in b) the solution comes from the same logic, but $X_2$ can never be 1 since $X_1$ would need to be 7 to make the sum 8, but 7 is not in the dice."
   ]
  },
  {
   "cell_type": "markdown",
   "metadata": {},
   "source": [
    "### 1.6\n",
    "Bob has n coins in his pocket. One is two-headed, the rest are fair. A coin is picked at randomm flipped and shows heads. Find the probability that the coin is two headed."
   ]
  },
  {
   "cell_type": "markdown",
   "metadata": {},
   "source": [
    "#### Answer \n",
    "Let's say that H is the probability of obtaining a heads and S is the probability of getting a two sided head coin, then what the want is the following:\n",
    "$$P(S|H)=\\frac{P(S \\cap H)}{P(H)}$$\n",
    "but we can see that $P(S \\cap H) = P(S)$ Since you are always going to get the heads if you have the two sided head coin, then we just need to look for the $P(S)$ and $P(H)$ and \n",
    "$$P(S) = 1/n$$\n",
    "$$P(H) = \\frac{1}{n}*1+\\sum_{n-1}^{i=1}\\frac{1}{n}*\\frac{1}{2}=\\frac{1}{n}+\\frac{n-1}{2n} = \\frac{n+1}{2n}$$\n",
    "Then\n",
    "$$P(S|H)=\\frac{1/n}{n+1/(2n)}=\\frac{2n}{n(n+1))}= \\frac{2}{n+1}$$\n"
   ]
  },
  {
   "cell_type": "code",
   "execution_count": 13,
   "metadata": {},
   "outputs": [
    {
     "name": "stdout",
     "output_type": "stream",
     "text": [
      " [1]  0  1  2  3  4  5  6  7  8  9 10\n"
     ]
    },
    {
     "data": {
      "text/html": [
       "0.188773686092242"
      ],
      "text/latex": [
       "0.188773686092242"
      ],
      "text/markdown": [
       "0.188773686092242"
      ],
      "text/plain": [
       "[1] 0.1887737"
      ]
     },
     "metadata": {},
     "output_type": "display_data"
    }
   ],
   "source": [
    "CoinFlipSim <- function(n = 10, sims = 1000){\n",
    "    # Note that for n = 10 the probability 2/11=0.1818\n",
    "    results = 0\n",
    "    heads = 0\n",
    "    for(i in 1:sims){\n",
    "        coin = sample(1:10, 1)\n",
    "        if(coin == 1){\n",
    "            results = results + 1\n",
    "            heads = heads + 1\n",
    "        }else{\n",
    "            if(runif(1) < 0.5){\n",
    "                heads = heads + 1\n",
    "            }\n",
    "        }\n",
    "        \n",
    "    }\n",
    "    return(results/heads)\n",
    "}\n",
    "CoinFlipSim(sims=10000)"
   ]
  },
  {
   "cell_type": "markdown",
   "metadata": {},
   "source": [
    "### 1.7 \n",
    "A rat is trapped in a maze with three doors and some hidden cheese. If the rat takes door one, he will wander around the maze for 2 minutes and return to where he started. If he takes door two, he will wander around the maze for 3 munutes and return to where he started. If he takes door three, he will find the cheese after one minute.  If the rat returns to where he started, then picks a new door. He picks a door by random, how long in average will it take it to get the cheese."
   ]
  },
  {
   "cell_type": "markdown",
   "metadata": {},
   "source": [
    "#### Answer\n",
    "The key point here is to see that the expected value can be seen as a summ of the conditional expectations (due to the law of total expectation, then let $X$ be the time to reach the cheese and Y the door the rat chose we have:\n",
    "\\begin{align}\n",
    "E(X) &= E(E(X|Y)) \\\\\n",
    " & = E(X|1)P(X=1)+E(X|2)P(X=2)+E(X|3)P(X=3) \\\\\n",
    " & = (2+E(X))1/3+(3+E(X))1/3+1/3 \\\\\n",
    " & = 2/3+1+1/3+2E(X)/3\n",
    "\\end{align}\n",
    "\n",
    "Then $E(X)=6$, it is important to note that the 2 and 3 and 1 come from the time it takes the rat to go back or eat the cheese and since it goes back to the beginning, then counting from there we have again the $E(X)$.\n",
    "\n",
    "this means that the rat will get to the cheese in 6 minutes "
   ]
  },
  {
   "cell_type": "code",
   "execution_count": 22,
   "metadata": {},
   "outputs": [
    {
     "data": {
      "text/html": [
       "6.0268"
      ],
      "text/latex": [
       "6.0268"
      ],
      "text/markdown": [
       "6.0268"
      ],
      "text/plain": [
       "[1] 6.0268"
      ]
     },
     "metadata": {},
     "output_type": "display_data"
    }
   ],
   "source": [
    "RatTimeMaze <- function(sims = 10000){\n",
    "    results = c()\n",
    "    for(i in 1:sims){\n",
    "        time = ChooseDoor(0)\n",
    "        results = c(results,time)\n",
    "    }\n",
    "    return(sum(results)/length(results))\n",
    "}\n",
    "        \n",
    "\n",
    "ChooseDoor <- function(t){\n",
    "    rand = runif(1)\n",
    "    if(rand < 1/3){\n",
    "        t=t+2\n",
    "        return(ChooseDoor(t))\n",
    "    }\n",
    "    else if(rand < 2/3){\n",
    "        t=t+3\n",
    "        return(ChooseDoor(t))\n",
    "    }\n",
    "    else{\n",
    "        t=t+1\n",
    "        return(t)\n",
    "    }\n",
    "}\n",
    "RatTimeMaze()"
   ]
  },
  {
   "cell_type": "markdown",
   "metadata": {},
   "source": [
    "### 1.8 \n",
    "A bag contains 1 red, 3 green and 5 yellow balls. A sample of four balls is picked. Let $G$ be the number of green balls in the sample. Let $Y$ be the number of yellow balls in the sample.\n",
    "\n",
    "- a) Find the conditional probability mass function of $G$ given $Y=2$ assyming the sample is picked without replacement.\n",
    "- b) Find the conditional probability mass function of $G$ given $Y=2$ assyming the sample is picked with replacement."
   ]
  },
  {
   "cell_type": "markdown",
   "metadata": {},
   "source": [
    "#### Answer\n",
    "Since there have already been picked 2, then we only need to check for three cases $G=0,1,2$. In this case since we are looking for without replacement, then \n",
    "$$P(G=g|Y=2)=\\frac{P(G=g \\cap Y=2)}{P(Y=2)}$$\n",
    "Let's calculate $P(Y=2)$\n",
    "$$P(Y=2)==\\frac{{5 \\choose 2}{4 \\choose 2}}{{9 \\choose 4}}$$\n",
    "and \n",
    "$$P(G=g \\cap Y=2)==\\frac{{5 \\choose 2}{3 \\choose g}{1 \\choose 2-g}}{{9 \\choose 4}}$$\n",
    "when $1-g \\geq 1$ \n",
    "Then we see that when $G=0$ this does not work, and both equations have the same denominator, then\n",
    "$$P(G=1|Y=2)=\\frac{{5 \\choose 2}{3 \\choose 1}{1 \\choose 1}}{{5 \\choose 2}{4 \\choose 2}}$$\n",
    "$$P(G=2|Y=2)=\\frac{{5 \\choose 2}{3 \\choose 2}}{{5 \\choose 2}{4 \\choose 2}}$$"
   ]
  },
  {
   "cell_type": "code",
   "execution_count": 32,
   "metadata": {},
   "outputs": [
    {
     "data": {
      "text/html": [
       "'0.500000, 0.500000'"
      ],
      "text/latex": [
       "'0.500000, 0.500000'"
      ],
      "text/markdown": [
       "'0.500000, 0.500000'"
      ],
      "text/plain": [
       "[1] \"0.500000, 0.500000\""
      ]
     },
     "metadata": {},
     "output_type": "display_data"
    }
   ],
   "source": [
    "p1 = choose(3,1)/choose(4,2) \n",
    "p2 = choose(3,2)/choose(4,2) \n",
    "sprintf(\"%f, %f\", p1, p2)"
   ]
  },
  {
   "cell_type": "markdown",
   "metadata": {},
   "source": [
    "There fore the answer is \n",
    "$$P(G=1|Y=2)=0.5$$\n",
    "$$P(G=2|Y=2)=0.5$$"
   ]
  },
  {
   "cell_type": "markdown",
   "metadata": {},
   "source": [
    "For case b) we have that $P(Y=2)$ is a binomial distribution and $P(G=g \\cap Y=2)$ is a multinomial distribution. Then\n",
    "$$P(Y=2)={4 \\choose 2}\\biggl( \\frac{5}{9} \\biggr)^2 \\biggl( \\frac{4}{9} \\biggr)^2$$\n",
    "$$P(G=g \\cap Y=2)=\\frac{4!}{2!g!(2-g)!}\\biggl( \\frac{5}{9} \\biggr)^2 \\biggl( \\frac{3}{9} \\biggr)^g\\biggl( \\frac{1}{9} \\biggr)^{2-g}$$\n",
    "Then"
   ]
  },
  {
   "cell_type": "code",
   "execution_count": 31,
   "metadata": {},
   "outputs": [
    {
     "data": {
      "text/html": [
       "'0.062500, 0.375000, 0.562500 '"
      ],
      "text/latex": [
       "'0.062500, 0.375000, 0.562500 '"
      ],
      "text/markdown": [
       "'0.062500, 0.375000, 0.562500 '"
      ],
      "text/plain": [
       "[1] \"0.062500, 0.375000, 0.562500 \""
      ]
     },
     "metadata": {},
     "output_type": "display_data"
    }
   ],
   "source": [
    "py = choose(4,2)*(5/9)**2*(4/9)**2\n",
    "p0 = (factorial(4)/(factorial(2)*factorial(2))*(5/9)**2*(1/9)**2)/py\n",
    "p1 = (factorial(4)/(factorial(2))*(5/9)**2*(1/9)*(3/9))/py\n",
    "p2 = (factorial(4)/(factorial(2)*factorial(2))*(5/9)**2*(3/9)**2)/py\n",
    "sprintf(\"%f, %f, %f \", p0, p1, p2)"
   ]
  },
  {
   "cell_type": "markdown",
   "metadata": {},
   "source": [
    "There fore the answer is \n",
    "$$P(G=0|Y=2)=0.0625$$\n",
    "$$P(G=1|Y=2)=0.375$$\n",
    "$$P(G=2|Y=2)=0.5625$$"
   ]
  },
  {
   "cell_type": "code",
   "execution_count": 4,
   "metadata": {},
   "outputs": [],
   "source": []
  }
 ],
 "metadata": {
  "kernelspec": {
   "display_name": "R",
   "language": "R",
   "name": "ir"
  },
  "language_info": {
   "codemirror_mode": "r",
   "file_extension": ".r",
   "mimetype": "text/x-r-source",
   "name": "R",
   "pygments_lexer": "r",
   "version": "3.5.0"
  }
 },
 "nbformat": 4,
 "nbformat_minor": 2
}
